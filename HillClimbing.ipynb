{
 "cells": [
  {
   "cell_type": "code",
   "execution_count": 1,
   "metadata": {},
   "outputs": [
    {
     "name": "stdout",
     "output_type": "stream",
     "text": [
      "hello\n"
     ]
    }
   ],
   "source": [
    "print(\"hello\")"
   ]
  },
  {
   "cell_type": "code",
   "execution_count": 91,
   "metadata": {},
   "outputs": [
    {
     "name": "stdout",
     "output_type": "stream",
     "text": [
      "322\n"
     ]
    }
   ],
   "source": [
    "with open(\"defects.csv\") as f:\n",
    "    lines = f.readlines()\n",
    "    defects = [line.strip().split(\",\") for line in lines[1:]]\n",
    "\n",
    "# Defects never occur at precise integer coordinates, so a defect will never be shared by two tiles.\n",
    "defect_counts = {}\n",
    "for x, y in defects:\n",
    "    x = int(float(x))\n",
    "    if x not in defect_counts:\n",
    "        defect_counts[x] = {\"a\": 0, \"b\": 0, \"c\": 0}\n",
    "\n",
    "    defect_counts[x][y] += 1\n",
    "\n",
    "print(len(defect_counts))"
   ]
  },
  {
   "cell_type": "code",
   "execution_count": 92,
   "metadata": {},
   "outputs": [],
   "source": [
    "dough_length = 500\n",
    "\n",
    "biscuits = {\n",
    "    0: {\"length\": 4, \"value\": 6, \"defects\": {\"a\": 4, \"b\": 2, \"c\": 3}, \"id\": 0},\n",
    "    1: {\"length\": 8, \"value\": 12, \"defects\": {\"a\": 5, \"b\": 4, \"c\": 4}, \"id\": 1},\n",
    "    2: {\"length\": 2, \"value\": 1, \"defects\": {\"a\": 1, \"b\": 2, \"c\": 1}, \"id\": 2},\n",
    "    3: {\"length\": 5, \"value\": 8, \"defects\": {\"a\": 2, \"b\": 3, \"c\": 2}, \"id\": 3},\n",
    "}"
   ]
  },
  {
   "cell_type": "code",
   "execution_count": 65,
   "metadata": {},
   "outputs": [
    {
     "name": "stdout",
     "output_type": "stream",
     "text": [
      "Best Total Value: 488\n",
      "Best Solution: [(186, 0), (190, 3), (195, 3), (200, 3), (205, 3), (210, 3), (215, 3), (220, 3), (225, 0), (229, 0), (233, 0), (237, 3), (242, 0), (246, 0), (250, 3), (255, 3), (260, 3), (265, 3), (270, 3), (275, 0), (279, 0), (283, 3), (288, 3), (293, 1), (301, 1), (309, 3), (314, 0), (318, 3), (323, 3), (328, 1), (336, 3), (341, 0), (345, 0), (349, 3), (354, 1), (362, 0), (366, 0), (370, 0), (374, 0), (378, 3), (383, 3), (388, 3), (393, 3), (398, 0), (402, 3), (407, 3), (412, 3), (417, 3), (422, 3), (427, 0), (431, 0), (435, 0), (439, 3), (444, 0), (448, 3), (453, 0), (457, 3), (462, 3), (467, 3), (472, 0), (476, 0), (480, 0), (484, 0), (488, 0), (492, 0), (496, 0)]\n"
     ]
    }
   ],
   "source": [
    "import copy\n",
    "\n",
    "def hill_climb(biscuits, defect_counts, dough_length, max_iterations=1000):\n",
    "    current_solution = [{\"total_value\": 0, \"path\": []} for _ in range(dough_length + 1)]\n",
    "    best_solution = copy.deepcopy(current_solution)\n",
    "\n",
    "    for _ in range(max_iterations):\n",
    "        for i in range(1, dough_length + 1):\n",
    "            for biscuit in biscuits.values():\n",
    "                length = biscuit[\"length\"]\n",
    "                if length <= i:\n",
    "                    defect_counts_for_biscuit = {\"a\": 0, \"b\": 0, \"c\": 0}\n",
    "                    for j in range(i - length, i):\n",
    "                        if j in defect_counts:\n",
    "                            for k in defect_counts[j]:\n",
    "                                defect_counts_for_biscuit[k] += defect_counts[j][k]\n",
    "\n",
    "                    if all(defect_counts_for_biscuit[k] <= biscuit[\"defects\"][k] for k in defect_counts_for_biscuit):\n",
    "                        if (\n",
    "                            biscuit[\"value\"] + current_solution[i - length][\"total_value\"] > current_solution[i][\"total_value\"]\n",
    "                            and biscuit[\"value\"] + current_solution[i - length][\"total_value\"] > current_solution[i - 1][\"total_value\"]\n",
    "                        ):\n",
    "                            current_solution[i] = {\n",
    "                                \"total_value\": biscuit[\"value\"] + current_solution[i - length][\"total_value\"],\n",
    "                                \"path\": current_solution[i - length][\"path\"] + [(i - biscuit[\"length\"], biscuit[\"id\"])],\n",
    "                            }\n",
    "                        elif current_solution[i - 1][\"total_value\"] > current_solution[i][\"total_value\"] and current_solution[i - 1][\"total_value\"] > biscuit[\"value\"] + current_solution[i - length][\"total_value\"]:\n",
    "                            current_solution[i] = current_solution[i - 1]\n",
    "                        else:\n",
    "                            current_solution[i] = current_solution[i]\n",
    "\n",
    "        if current_solution[-1][\"total_value\"] > best_solution[-1][\"total_value\"]:\n",
    "            best_solution = copy.deepcopy(current_solution)\n",
    "\n",
    "    return best_solution\n",
    "\n",
    "# Example usage\n",
    "best_solution = hill_climb(biscuits, defect_counts, dough_length)\n",
    "print(\"Best Total Value:\", best_solution[-1][\"total_value\"])\n",
    "print(\"Best Solution:\", best_solution[-1][\"path\"])\n"
   ]
  },
  {
   "cell_type": "code",
   "execution_count": 83,
   "metadata": {},
   "outputs": [],
   "source": [
    "def is_solution_valid(biscuits, defect_counts, dough_length, solution):\n",
    "    for i, (position, biscuit_id) in enumerate(solution):\n",
    "        if position < 0 or position + biscuits[biscuit_id][\"length\"] > dough_length:\n",
    "            return False\n",
    "\n",
    "        defect_counts_for_biscuit = {\"a\": 0, \"b\": 0, \"c\": 0}\n",
    "        for j in range(position, position + biscuits[biscuit_id][\"length\"]):\n",
    "            if j in defect_counts:\n",
    "                for k in defect_counts[j]:\n",
    "                    defect_counts_for_biscuit[k] += defect_counts[j][k]\n",
    "\n",
    "        if i != 0 and position <= solution[i - 1][0] + biscuits[solution[i - 1][1]][\"length\"] - 1:\n",
    "            return False\n",
    "\n",
    "        for k in defect_counts_for_biscuit:\n",
    "            if defect_counts_for_biscuit[k] > biscuits[biscuit_id][\"defects\"][k]:\n",
    "                return False\n",
    "\n",
    "    return True\n"
   ]
  },
  {
   "cell_type": "code",
   "execution_count": 67,
   "metadata": {},
   "outputs": [
    {
     "name": "stdout",
     "output_type": "stream",
     "text": [
      "Is the solution valid? True\n"
     ]
    }
   ],
   "source": [
    "is_valid = is_solution_valid(biscuits, defect_counts, dough_length, best_solution[-1][\"path\"])\n",
    "print(\"Is the solution valid?\", is_valid)\n"
   ]
  },
  {
   "cell_type": "code",
   "execution_count": 85,
   "metadata": {},
   "outputs": [
    {
     "ename": "TypeError",
     "evalue": "is_valid_placement_optimized() missing 2 required positional arguments: 'biscuits' and 'dough_length'",
     "output_type": "error",
     "traceback": [
      "\u001b[1;31m---------------------------------------------------------------------------\u001b[0m",
      "\u001b[1;31mTypeError\u001b[0m                                 Traceback (most recent call last)",
      "Cell \u001b[1;32mIn[85], line 20\u001b[0m\n\u001b[0;32m     14\u001b[0m biscuits \u001b[38;5;241m=\u001b[39m {\u001b[38;5;124m'\u001b[39m\u001b[38;5;124ma\u001b[39m\u001b[38;5;124m'\u001b[39m: {\u001b[38;5;124m'\u001b[39m\u001b[38;5;124mlength\u001b[39m\u001b[38;5;124m'\u001b[39m: \u001b[38;5;241m10\u001b[39m, \u001b[38;5;124m'\u001b[39m\u001b[38;5;124mdefects\u001b[39m\u001b[38;5;124m'\u001b[39m: {\u001b[38;5;124m'\u001b[39m\u001b[38;5;124ma\u001b[39m\u001b[38;5;124m'\u001b[39m: \u001b[38;5;241m2\u001b[39m, \u001b[38;5;124m'\u001b[39m\u001b[38;5;124mb\u001b[39m\u001b[38;5;124m'\u001b[39m: \u001b[38;5;241m1\u001b[39m, \u001b[38;5;124m'\u001b[39m\u001b[38;5;124mc\u001b[39m\u001b[38;5;124m'\u001b[39m: \u001b[38;5;241m0\u001b[39m}},\n\u001b[0;32m     15\u001b[0m             \u001b[38;5;124m'\u001b[39m\u001b[38;5;124mb\u001b[39m\u001b[38;5;124m'\u001b[39m: {\u001b[38;5;124m'\u001b[39m\u001b[38;5;124mlength\u001b[39m\u001b[38;5;124m'\u001b[39m: \u001b[38;5;241m8\u001b[39m, \u001b[38;5;124m'\u001b[39m\u001b[38;5;124mdefects\u001b[39m\u001b[38;5;124m'\u001b[39m: {\u001b[38;5;124m'\u001b[39m\u001b[38;5;124ma\u001b[39m\u001b[38;5;124m'\u001b[39m: \u001b[38;5;241m1\u001b[39m, \u001b[38;5;124m'\u001b[39m\u001b[38;5;124mb\u001b[39m\u001b[38;5;124m'\u001b[39m: \u001b[38;5;241m2\u001b[39m, \u001b[38;5;124m'\u001b[39m\u001b[38;5;124mc\u001b[39m\u001b[38;5;124m'\u001b[39m: \u001b[38;5;241m1\u001b[39m}},\n\u001b[0;32m     16\u001b[0m             \u001b[38;5;124m'\u001b[39m\u001b[38;5;124mc\u001b[39m\u001b[38;5;124m'\u001b[39m: {\u001b[38;5;124m'\u001b[39m\u001b[38;5;124mlength\u001b[39m\u001b[38;5;124m'\u001b[39m: \u001b[38;5;241m12\u001b[39m, \u001b[38;5;124m'\u001b[39m\u001b[38;5;124mdefects\u001b[39m\u001b[38;5;124m'\u001b[39m: {\u001b[38;5;124m'\u001b[39m\u001b[38;5;124ma\u001b[39m\u001b[38;5;124m'\u001b[39m: \u001b[38;5;241m0\u001b[39m, \u001b[38;5;124m'\u001b[39m\u001b[38;5;124mb\u001b[39m\u001b[38;5;124m'\u001b[39m: \u001b[38;5;241m1\u001b[39m, \u001b[38;5;124m'\u001b[39m\u001b[38;5;124mc\u001b[39m\u001b[38;5;124m'\u001b[39m: \u001b[38;5;241m3\u001b[39m}}}\n\u001b[0;32m     18\u001b[0m defect_counts \u001b[38;5;241m=\u001b[39m preprocess_defects([(\u001b[38;5;241m5\u001b[39m, \u001b[38;5;124m'\u001b[39m\u001b[38;5;124ma\u001b[39m\u001b[38;5;124m'\u001b[39m), (\u001b[38;5;241m15\u001b[39m, \u001b[38;5;124m'\u001b[39m\u001b[38;5;124mb\u001b[39m\u001b[38;5;124m'\u001b[39m), (\u001b[38;5;241m25\u001b[39m, \u001b[38;5;124m'\u001b[39m\u001b[38;5;124mc\u001b[39m\u001b[38;5;124m'\u001b[39m)])  \u001b[38;5;66;03m# Replace with actual defects\u001b[39;00m\n\u001b[1;32m---> 20\u001b[0m optimal_solution_optimized \u001b[38;5;241m=\u001b[39m hill_climbing_optimized(defect_counts)\n\u001b[0;32m     21\u001b[0m \u001b[38;5;28mprint\u001b[39m(optimal_solution_optimized, calculate_solution_value(optimal_solution_optimized))\n",
      "Cell \u001b[1;32mIn[82], line 18\u001b[0m, in \u001b[0;36mhill_climbing_optimized\u001b[1;34m(defect_counts)\u001b[0m\n\u001b[0;32m     16\u001b[0m \u001b[38;5;28;01mdef\u001b[39;00m \u001b[38;5;21mhill_climbing_optimized\u001b[39m(defect_counts):\n\u001b[0;32m     17\u001b[0m \u001b[38;5;250m    \u001b[39m\u001b[38;5;124;03m\"\"\" Perform an optimized hill climbing algorithm using the efficient defect data structure. \"\"\"\u001b[39;00m\n\u001b[1;32m---> 18\u001b[0m     current_solution \u001b[38;5;241m=\u001b[39m generate_initial_solution_optimized(defect_counts)\n\u001b[0;32m     19\u001b[0m     current_value \u001b[38;5;241m=\u001b[39m calculate_solution_value(current_solution)\n\u001b[0;32m     20\u001b[0m     iterations \u001b[38;5;241m=\u001b[39m \u001b[38;5;241m0\u001b[39m\n",
      "Cell \u001b[1;32mIn[82], line 9\u001b[0m, in \u001b[0;36mgenerate_initial_solution_optimized\u001b[1;34m(defect_counts)\u001b[0m\n\u001b[0;32m      7\u001b[0m \u001b[38;5;28;01mwhile\u001b[39;00m position \u001b[38;5;241m<\u001b[39m dough_length:\n\u001b[0;32m      8\u001b[0m     biscuit_type \u001b[38;5;241m=\u001b[39m random\u001b[38;5;241m.\u001b[39mchoice(\u001b[38;5;28mlist\u001b[39m(biscuits\u001b[38;5;241m.\u001b[39mkeys()))\n\u001b[1;32m----> 9\u001b[0m     \u001b[38;5;28;01mif\u001b[39;00m is_valid_placement_optimized(position, biscuit_type, defect_counts):\n\u001b[0;32m     10\u001b[0m         solution\u001b[38;5;241m.\u001b[39mappend((position, biscuit_type))\n\u001b[0;32m     11\u001b[0m         position \u001b[38;5;241m+\u001b[39m\u001b[38;5;241m=\u001b[39m biscuits[biscuit_type][\u001b[38;5;124m'\u001b[39m\u001b[38;5;124mlength\u001b[39m\u001b[38;5;124m'\u001b[39m]\n",
      "\u001b[1;31mTypeError\u001b[0m: is_valid_placement_optimized() missing 2 required positional arguments: 'biscuits' and 'dough_length'"
     ]
    }
   ],
   "source": []
  },
  {
   "cell_type": "code",
   "execution_count": 81,
   "metadata": {},
   "outputs": [],
   "source": [
    "def count_defects_in_range_efficient(start, end, defect_counts):\n",
    "    \"\"\" Efficiently count the number of defects of each class in a specified range. \"\"\"\n",
    "    counts = {cls: 0 for cls in 'abc'}\n",
    "    for cls in counts.keys():\n",
    "        counts[cls] = sum(defect_counts[cls][start:end])\n",
    "    return counts\n",
    "\n",
    "def generate_neighbors_efficient(solution, defect_counts):\n",
    "    \"\"\" Generate a limited set of neighboring solutions for efficiency. \"\"\"\n",
    "    neighbors = []\n",
    "    for i in range(len(solution)):\n",
    "        position, current_type = solution[i]\n",
    "        for biscuit_type in biscuits:\n",
    "            if biscuit_type != current_type:\n",
    "                new_solution = solution[:i] + [(position, biscuit_type)] + solution[i+1:]\n",
    "                valid = True\n",
    "                for pos, bt in new_solution:\n",
    "                    counts = count_defects_in_range_efficient(pos, pos + biscuits[bt]['length'], defect_counts)\n",
    "                    if any(counts[cls] > biscuits[bt]['defects'][cls] for cls in counts):\n",
    "                        valid = False\n",
    "                        break\n",
    "                if valid:\n",
    "                    neighbors.append(new_solution)\n",
    "    return neighbors\n",
    "\n",
    "def preprocess_defects(defects):\n",
    "    \"\"\" Preprocess defects into a more efficient data structure for counting. \"\"\"\n",
    "    defect_counts = {'a': [0] * dough_length, 'b': [0] * dough_length, 'c': [0] * dough_length}\n",
    "    for pos, cls in defects:\n",
    "        if 0 <= pos < dough_length:\n",
    "            defect_counts[cls][int(pos)] += 1\n",
    "    return defect_counts\n",
    "\n"
   ]
  },
  {
   "cell_type": "code",
   "execution_count": 82,
   "metadata": {},
   "outputs": [
    {
     "ename": "NameError",
     "evalue": "name 'BISCUITS' is not defined",
     "output_type": "error",
     "traceback": [
      "\u001b[1;31m---------------------------------------------------------------------------\u001b[0m",
      "\u001b[1;31mNameError\u001b[0m                                 Traceback (most recent call last)",
      "Cell \u001b[1;32mIn[82], line 40\u001b[0m\n\u001b[0;32m     37\u001b[0m     \u001b[38;5;28;01mreturn\u001b[39;00m current_solution\n\u001b[0;32m     39\u001b[0m \u001b[38;5;66;03m# Execute the optimized hill climbing algorithm with the new defect data structure\u001b[39;00m\n\u001b[1;32m---> 40\u001b[0m optimal_solution_optimized \u001b[38;5;241m=\u001b[39m hill_climbing_optimized(defect_counts)\n\u001b[0;32m     41\u001b[0m optimal_solution_optimized, calculate_solution_value(optimal_solution_optimized)\n",
      "Cell \u001b[1;32mIn[82], line 18\u001b[0m, in \u001b[0;36mhill_climbing_optimized\u001b[1;34m(defect_counts)\u001b[0m\n\u001b[0;32m     16\u001b[0m \u001b[38;5;28;01mdef\u001b[39;00m \u001b[38;5;21mhill_climbing_optimized\u001b[39m(defect_counts):\n\u001b[0;32m     17\u001b[0m \u001b[38;5;250m    \u001b[39m\u001b[38;5;124;03m\"\"\" Perform an optimized hill climbing algorithm using the efficient defect data structure. \"\"\"\u001b[39;00m\n\u001b[1;32m---> 18\u001b[0m     current_solution \u001b[38;5;241m=\u001b[39m generate_initial_solution_optimized(defect_counts)\n\u001b[0;32m     19\u001b[0m     current_value \u001b[38;5;241m=\u001b[39m calculate_solution_value(current_solution)\n\u001b[0;32m     20\u001b[0m     iterations \u001b[38;5;241m=\u001b[39m \u001b[38;5;241m0\u001b[39m\n",
      "Cell \u001b[1;32mIn[82], line 9\u001b[0m, in \u001b[0;36mgenerate_initial_solution_optimized\u001b[1;34m(defect_counts)\u001b[0m\n\u001b[0;32m      7\u001b[0m \u001b[38;5;28;01mwhile\u001b[39;00m position \u001b[38;5;241m<\u001b[39m dough_length:\n\u001b[0;32m      8\u001b[0m     biscuit_type \u001b[38;5;241m=\u001b[39m random\u001b[38;5;241m.\u001b[39mchoice(\u001b[38;5;28mlist\u001b[39m(biscuits\u001b[38;5;241m.\u001b[39mkeys()))\n\u001b[1;32m----> 9\u001b[0m     \u001b[38;5;28;01mif\u001b[39;00m is_valid_placement_optimized(position, biscuit_type, defect_counts):\n\u001b[0;32m     10\u001b[0m         solution\u001b[38;5;241m.\u001b[39mappend((position, biscuit_type))\n\u001b[0;32m     11\u001b[0m         position \u001b[38;5;241m+\u001b[39m\u001b[38;5;241m=\u001b[39m biscuits[biscuit_type][\u001b[38;5;124m'\u001b[39m\u001b[38;5;124mlength\u001b[39m\u001b[38;5;124m'\u001b[39m]\n",
      "Cell \u001b[1;32mIn[74], line 3\u001b[0m, in \u001b[0;36mis_valid_placement_optimized\u001b[1;34m(position, biscuit_type, defect_counts)\u001b[0m\n\u001b[0;32m      1\u001b[0m \u001b[38;5;28;01mdef\u001b[39;00m \u001b[38;5;21mis_valid_placement_optimized\u001b[39m(position, biscuit_type, defect_counts):\n\u001b[0;32m      2\u001b[0m \u001b[38;5;250m    \u001b[39m\u001b[38;5;124;03m\"\"\" Check if a biscuit placement is valid considering defects with optimized defect counting. \"\"\"\u001b[39;00m\n\u001b[1;32m----> 3\u001b[0m     biscuit \u001b[38;5;241m=\u001b[39m BISCUITS[biscuit_type]\n\u001b[0;32m      4\u001b[0m     end \u001b[38;5;241m=\u001b[39m position \u001b[38;5;241m+\u001b[39m biscuit[\u001b[38;5;124m'\u001b[39m\u001b[38;5;124mlength\u001b[39m\u001b[38;5;124m'\u001b[39m]\n\u001b[0;32m      5\u001b[0m     \u001b[38;5;28;01mif\u001b[39;00m end \u001b[38;5;241m>\u001b[39m DOUGH_LENGTH:\n",
      "\u001b[1;31mNameError\u001b[0m: name 'BISCUITS' is not defined"
     ]
    }
   ],
   "source": [
    "import random\n",
    "\n",
    "def generate_initial_solution_optimized(defect_counts):\n",
    "    \"\"\" Generate a random initial solution using the optimized defect data structure. \"\"\"\n",
    "    solution = []\n",
    "    position = 0\n",
    "    while position < dough_length:\n",
    "        biscuit_type = random.choice(list(biscuits.keys()))\n",
    "        if is_valid_placement_optimized(position, biscuit_type, defect_counts):\n",
    "            solution.append((position, biscuit_type))\n",
    "            position += biscuits[biscuit_type]['length']\n",
    "        else:\n",
    "            position += 1\n",
    "    return solution\n",
    "\n",
    "def hill_climbing_optimized(defect_counts):\n",
    "    \"\"\" Perform an optimized hill climbing algorithm using the efficient defect data structure. \"\"\"\n",
    "    current_solution = generate_initial_solution_optimized(defect_counts)\n",
    "    current_value = calculate_solution_value(current_solution)\n",
    "    iterations = 0\n",
    "    while iterations < 100:  # Limiting iterations for efficiency\n",
    "        neighbors = []\n",
    "        for i in range(len(current_solution)):\n",
    "            position, current_type = current_solution[i]\n",
    "            for biscuit_type in biscuits:\n",
    "                if biscuit_type != current_type:\n",
    "                    new_solution = current_solution[:i] + [(position, biscuit_type)] + current_solution[i+1:]\n",
    "                    if all(is_valid_placement_optimized(pos, bt, defect_counts) for pos, bt in new_solution):\n",
    "                        neighbors.append(new_solution)\n",
    "\n",
    "        best_neighbor = max(neighbors, key=calculate_solution_value, default=current_solution)\n",
    "        best_neighbor_value = calculate_solution_value(best_neighbor)\n",
    "        if best_neighbor_value <= current_value:\n",
    "            break\n",
    "        current_solution, current_value = best_neighbor, best_neighbor_value\n",
    "        iterations += 1\n",
    "    return current_solution\n",
    "\n",
    "# Execute the optimized hill climbing algorithm with the new defect data structure\n",
    "optimal_solution_optimized = hill_climbing_optimized(defect_counts)\n",
    "optimal_solution_optimized, calculate_solution_value(optimal_solution_optimized)\n"
   ]
  },
  {
   "cell_type": "code",
   "execution_count": 95,
   "metadata": {},
   "outputs": [
    {
     "ename": "KeyboardInterrupt",
     "evalue": "",
     "output_type": "error",
     "traceback": [
      "\u001b[1;31m---------------------------------------------------------------------------\u001b[0m",
      "\u001b[1;31mKeyboardInterrupt\u001b[0m                         Traceback (most recent call last)",
      "Cell \u001b[1;32mIn[95], line 44\u001b[0m\n\u001b[0;32m     41\u001b[0m \u001b[38;5;66;03m# Convert the dictionary to namedtuples\u001b[39;00m\n\u001b[0;32m     42\u001b[0m biscuits \u001b[38;5;241m=\u001b[39m {key: Biscuit(\u001b[38;5;241m*\u001b[39m\u001b[38;5;241m*\u001b[39mvalue) \u001b[38;5;28;01mfor\u001b[39;00m key, value \u001b[38;5;129;01min\u001b[39;00m biscuits_data\u001b[38;5;241m.\u001b[39mitems()}\n\u001b[1;32m---> 44\u001b[0m best_solution \u001b[38;5;241m=\u001b[39m hill_climb(biscuits, defect_counts, dough_length)\n\u001b[0;32m     45\u001b[0m \u001b[38;5;28mprint\u001b[39m(\u001b[38;5;124m\"\u001b[39m\u001b[38;5;124mBest Total Value:\u001b[39m\u001b[38;5;124m\"\u001b[39m, best_solution[\u001b[38;5;241m-\u001b[39m\u001b[38;5;241m1\u001b[39m]\u001b[38;5;241m.\u001b[39mtotal_value)\n\u001b[0;32m     46\u001b[0m \u001b[38;5;28mprint\u001b[39m(\u001b[38;5;124m\"\u001b[39m\u001b[38;5;124mBest Solution:\u001b[39m\u001b[38;5;124m\"\u001b[39m, best_solution[\u001b[38;5;241m-\u001b[39m\u001b[38;5;241m1\u001b[39m]\u001b[38;5;241m.\u001b[39mpath)\n",
      "Cell \u001b[1;32mIn[95], line 25\u001b[0m, in \u001b[0;36mhill_climb\u001b[1;34m(biscuits, defect_counts, dough_length, max_iterations)\u001b[0m\n\u001b[0;32m     21\u001b[0m             defect_counts_for_biscuit \u001b[38;5;241m=\u001b[39m {\n\u001b[0;32m     22\u001b[0m                 k: defect_counts[j][k] \u001b[38;5;28;01mfor\u001b[39;00m j \u001b[38;5;129;01min\u001b[39;00m \u001b[38;5;28mrange\u001b[39m(position \u001b[38;5;241m-\u001b[39m length, position) \u001b[38;5;28;01mif\u001b[39;00m j \u001b[38;5;129;01min\u001b[39;00m defect_counts \u001b[38;5;28;01mfor\u001b[39;00m k \u001b[38;5;129;01min\u001b[39;00m defect_counts[j]\n\u001b[0;32m     23\u001b[0m             }\n\u001b[0;32m     24\u001b[0m             \u001b[38;5;28;01mif\u001b[39;00m \u001b[38;5;28mall\u001b[39m(count \u001b[38;5;241m<\u001b[39m\u001b[38;5;241m=\u001b[39m biscuit\u001b[38;5;241m.\u001b[39mdefects[k] \u001b[38;5;28;01mfor\u001b[39;00m k, count \u001b[38;5;129;01min\u001b[39;00m defect_counts_for_biscuit\u001b[38;5;241m.\u001b[39mitems()):\n\u001b[1;32m---> 25\u001b[0m                 new_solution \u001b[38;5;241m=\u001b[39m update_solution(current_solution, position, biscuit)\n\u001b[0;32m     26\u001b[0m                 current_solution[position] \u001b[38;5;241m=\u001b[39m \u001b[38;5;28mmax\u001b[39m(new_solution, current_solution[position \u001b[38;5;241m-\u001b[39m \u001b[38;5;241m1\u001b[39m], key\u001b[38;5;241m=\u001b[39m\u001b[38;5;28;01mlambda\u001b[39;00m s: s\u001b[38;5;241m.\u001b[39mtotal_value)\n\u001b[0;32m     28\u001b[0m \u001b[38;5;28;01mif\u001b[39;00m current_solution[\u001b[38;5;241m-\u001b[39m\u001b[38;5;241m1\u001b[39m]\u001b[38;5;241m.\u001b[39mtotal_value \u001b[38;5;241m>\u001b[39m best_solution[\u001b[38;5;241m-\u001b[39m\u001b[38;5;241m1\u001b[39m]\u001b[38;5;241m.\u001b[39mtotal_value:\n",
      "Cell \u001b[1;32mIn[95], line 8\u001b[0m, in \u001b[0;36mupdate_solution\u001b[1;34m(current_solution, position, biscuit)\u001b[0m\n\u001b[0;32m      6\u001b[0m total_value \u001b[38;5;241m=\u001b[39m biscuit\u001b[38;5;241m.\u001b[39mvalue \u001b[38;5;241m+\u001b[39m current_solution[position \u001b[38;5;241m-\u001b[39m biscuit\u001b[38;5;241m.\u001b[39mlength]\u001b[38;5;241m.\u001b[39mtotal_value\n\u001b[0;32m      7\u001b[0m path \u001b[38;5;241m=\u001b[39m current_solution[position \u001b[38;5;241m-\u001b[39m biscuit\u001b[38;5;241m.\u001b[39mlength]\u001b[38;5;241m.\u001b[39mpath \u001b[38;5;241m+\u001b[39m [(position \u001b[38;5;241m-\u001b[39m biscuit\u001b[38;5;241m.\u001b[39mlength, biscuit\u001b[38;5;241m.\u001b[39mid)]\n\u001b[1;32m----> 8\u001b[0m \u001b[38;5;28;01mreturn\u001b[39;00m namedtuple(\u001b[38;5;124m\"\u001b[39m\u001b[38;5;124mSolution\u001b[39m\u001b[38;5;124m\"\u001b[39m, [\u001b[38;5;124m\"\u001b[39m\u001b[38;5;124mtotal_value\u001b[39m\u001b[38;5;124m\"\u001b[39m, \u001b[38;5;124m\"\u001b[39m\u001b[38;5;124mpath\u001b[39m\u001b[38;5;124m\"\u001b[39m])(total_value, path)\n",
      "File \u001b[1;32m<string>:1\u001b[0m, in \u001b[0;36m<lambda>\u001b[1;34m(_cls, total_value, path)\u001b[0m\n",
      "\u001b[1;31mKeyboardInterrupt\u001b[0m: "
     ]
    }
   ],
   "source": [
    "from collections import namedtuple\n",
    "\n",
    "Biscuit = namedtuple(\"Biscuit\", [\"id\", \"length\", \"defects\", \"value\"])\n",
    "\n",
    "def update_solution(current_solution, position, biscuit):\n",
    "    total_value = biscuit.value + current_solution[position - biscuit.length].total_value\n",
    "    path = current_solution[position - biscuit.length].path + [(position - biscuit.length, biscuit.id)]\n",
    "    return namedtuple(\"Solution\", [\"total_value\", \"path\"])(total_value, path)\n",
    "\n",
    "def hill_climb(biscuits, defect_counts, dough_length, max_iterations=1000):\n",
    "    Solution = namedtuple(\"Solution\", [\"total_value\", \"path\"])\n",
    "\n",
    "    current_solution = [Solution(0, []) for _ in range(dough_length + 1)]\n",
    "    best_solution = current_solution\n",
    "\n",
    "    for _ in range(max_iterations):\n",
    "        for position in range(1, dough_length + 1):\n",
    "            for biscuit in biscuits.values():\n",
    "                length = biscuit.length\n",
    "                if length <= position:\n",
    "                    defect_counts_for_biscuit = {\n",
    "                        k: defect_counts[j][k] for j in range(position - length, position) if j in defect_counts for k in defect_counts[j]\n",
    "                    }\n",
    "                    if all(count <= biscuit.defects[k] for k, count in defect_counts_for_biscuit.items()):\n",
    "                        new_solution = update_solution(current_solution, position, biscuit)\n",
    "                        current_solution[position] = max(new_solution, current_solution[position - 1], key=lambda s: s.total_value)\n",
    "\n",
    "        if current_solution[-1].total_value > best_solution[-1].total_value:\n",
    "            best_solution = current_solution\n",
    "\n",
    "    return best_solution\n",
    "\n",
    "# Example usage\n",
    "biscuits_data = {\n",
    "    0: {\"length\": 4, \"value\": 6, \"defects\": {\"a\": 4, \"b\": 2, \"c\": 3}, \"id\": 0},\n",
    "    1: {\"length\": 8, \"value\": 12, \"defects\": {\"a\": 5, \"b\": 4, \"c\": 4}, \"id\": 1},\n",
    "    2: {\"length\": 2, \"value\": 1, \"defects\": {\"a\": 1, \"b\": 2, \"c\": 1}, \"id\": 2},\n",
    "    3: {\"length\": 5, \"value\": 8, \"defects\": {\"a\": 2, \"b\": 3, \"c\": 2}, \"id\": 3},\n",
    "}\n",
    "\n",
    "# Convert the dictionary to namedtuples\n",
    "biscuits = {key: Biscuit(**value) for key, value in biscuits_data.items()}\n",
    "\n",
    "best_solution = hill_climb(biscuits, defect_counts, dough_length)\n",
    "print(\"Best Total Value:\", best_solution[-1].total_value)\n",
    "print(\"Best Solution:\", best_solution[-1].path)\n"
   ]
  }
 ],
 "metadata": {
  "kernelspec": {
   "display_name": "Python 3",
   "language": "python",
   "name": "python3"
  },
  "language_info": {
   "codemirror_mode": {
    "name": "ipython",
    "version": 3
   },
   "file_extension": ".py",
   "mimetype": "text/x-python",
   "name": "python",
   "nbconvert_exporter": "python",
   "pygments_lexer": "ipython3",
   "version": "3.11.4"
  }
 },
 "nbformat": 4,
 "nbformat_minor": 2
}
