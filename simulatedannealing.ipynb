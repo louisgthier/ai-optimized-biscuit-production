{
 "cells": [
  {
   "cell_type": "code",
   "execution_count": 1,
   "metadata": {},
   "outputs": [
    {
     "name": "stdout",
     "output_type": "stream",
     "text": [
      "322\n"
     ]
    }
   ],
   "source": [
    "with open(\"defects.csv\") as f:\n",
    "    lines = f.readlines()\n",
    "    defects = [line.strip().split(\",\") for line in lines[1:]]\n",
    "\n",
    "# Defects never occur at precise integer coordinates, so a defect will never be shared by two tiles.\n",
    "defect_counts = {}\n",
    "for x, y in defects:\n",
    "    x = int(float(x))\n",
    "    if x not in defect_counts:\n",
    "        defect_counts[x] = {\"a\": 0, \"b\": 0, \"c\": 0}\n",
    "\n",
    "    defect_counts[x][y] += 1\n",
    "\n",
    "print(len(defect_counts))"
   ]
  },
  {
   "cell_type": "code",
   "execution_count": 2,
   "metadata": {},
   "outputs": [],
   "source": [
    "dough_length = 500\n",
    "\n",
    "biscuits = {\n",
    "    0: {\"length\": 4, \"value\": 6, \"defects\": {\"a\": 4, \"b\": 2, \"c\": 3}, \"id\": 0},\n",
    "    1: {\"length\": 8, \"value\": 12, \"defects\": {\"a\": 5, \"b\": 4, \"c\": 4}, \"id\": 1},\n",
    "    2: {\"length\": 2, \"value\": 1, \"defects\": {\"a\": 1, \"b\": 2, \"c\": 1}, \"id\": 2},\n",
    "    3: {\"length\": 5, \"value\": 8, \"defects\": {\"a\": 2, \"b\": 3, \"c\": 2}, \"id\": 3},\n",
    "}"
   ]
  },
  {
   "cell_type": "code",
   "execution_count": 4,
   "metadata": {},
   "outputs": [],
   "source": [
    "# Function to evaluate the total value of the biscuits in the current state\n",
    "def evaluate_state(state):\n",
    "    total_value = 0\n",
    "    pos = 0\n",
    "    while pos < dough_length:\n",
    "        biscuit_idx = state[pos]\n",
    "        if biscuit_idx != -1:\n",
    "            biscuit = biscuits[biscuit_idx]\n",
    "            total_value += biscuit[\"value\"]\n",
    "            pos += biscuit[\"length\"]\n",
    "        else:\n",
    "            pos += 1\n",
    "    return total_value"
   ]
  },
  {
   "cell_type": "code",
   "execution_count": 13,
   "metadata": {},
   "outputs": [
    {
     "name": "stdout",
     "output_type": "stream",
     "text": [
      "Optimal State: [-1, -1, -1, 1, 3, 2, 2, -1, -1, -1, 1, 2, -1, -1, -1, 2, -1, -1, 3, 0, -1, -1, 3, 1, 2, 1, -1, -1, -1, -1, -1, -1, 3, 1, -1, 0, -1, -1, 0, -1, -1, -1, 3, 0, 0, 1, -1, 0, 2, 0, -1, 3, -1, 1, -1, 2, -1, 3, 0, 2, -1, -1, 0, -1, -1, -1, -1, -1, -1, -1, 2, -1, 1, -1, 2, -1, -1, -1, 2, 3, -1, -1, -1, 3, -1, 0, 2, 3, -1, 2, -1, -1, -1, -1, 1, 2, -1, 0, -1, -1, -1, -1, -1, -1, -1, 0, 1, 2, -1, 3, 2, 0, 2, -1, -1, -1, -1, 0, -1, 0, -1, 3, -1, -1, -1, -1, 2, 0, 0, -1, -1, -1, -1, 1, 3, 0, 3, 2, 1, 2, -1, -1, -1, 1, -1, -1, -1, 3, -1, -1, -1, -1, -1, -1, 3, 0, -1, 2, -1, -1, -1, 2, -1, -1, -1, 2, -1, -1, -1, 3, 2, -1, 3, 0, -1, 1, -1, -1, 1, -1, -1, -1, -1, -1, -1, -1, 0, 3, 2, -1, -1, -1, -1, -1, 1, 2, -1, 2, 2, 1, 2, -1, -1, -1, 3, -1, 2, 1, 1, -1, 3, -1, 3, -1, -1, -1, 0, 3, 2, 2, 3, -1, -1, -1, 1, -1, 0, 3, -1, -1, -1, 1, -1, -1, 1, -1, -1, 1, -1, 3, -1, 0, -1, 0, 1, -1, -1, -1, 1, 3, -1, -1, 1, 0, 2, -1, -1, 3, 3, -1, 3, -1, -1, 2, -1, 0, -1, -1, 1, 1, -1, -1, -1, 0, 2, 0, 2, -1, 1, 0, -1, -1, -1, -1, 2, 0, -1, 2, -1, 3, -1, -1, -1, 1, -1, -1, 0, -1, -1, -1, -1, 1, -1, 3, 3, 1, -1, 1, -1, -1, -1, 3, 2, 2, -1, 1, -1, 3, -1, -1, -1, -1, -1, -1, 2, 2, 0, -1, -1, 1, -1, 0, 1, 0, -1, -1, -1, -1, 3, 0, 2, -1, -1, -1, 2, -1, -1, 1, 1, 1, 2, -1, 0, -1, -1, 3, -1, 2, 0, -1, 3, 0, -1, 2, 2, -1, -1, -1, -1, -1, 3, -1, 0, -1, 1, 1, 0, 2, -1, 2, 1, 0, 3, 1, 3, -1, -1, -1, -1, -1, -1, 2, -1, 2, -1, -1, -1, -1, -1, 1, 0, -1, -1, 1, -1, -1, 1, -1, 1, -1, -1, -1, 2, -1, -1, -1, -1, -1, 2, -1, 0, -1, -1, 1, -1, 0, 3, -1, 2, 1, -1, -1, -1, -1, -1, 0, 2, -1, 3, 0, 0, -1, 1, 1, 3, 1, 3, 1, -1, -1, 1, 0, 1, -1, -1, 1, 1, 1, 1, 0, -1, -1, 2, -1, 1, -1, 1, -1, 2, 2, -1, -1, -1, 1, -1, -1, 1, -1, 1, 1, 3, -1, 0, 0, 0, -1, 1, 2, 3, -1, -1, -1, 1, -1, -1, 0, -1, 1, -1, 1]\n",
      "Total Value: 617\n"
     ]
    }
   ],
   "source": [
    "import math\n",
    "import random\n",
    "\n",
    "# Simulated Annealing Algorithm\n",
    "def simulated_annealing():\n",
    "    current_state = [-1] * dough_length\n",
    "    current_value = evaluate_state(current_state)\n",
    "    best_state = current_state\n",
    "    best_value = current_value\n",
    "\n",
    "    temperature = 1.0\n",
    "    cooling_rate = 0.99\n",
    "    min_temperature = 0.01\n",
    "\n",
    "    while temperature > min_temperature:\n",
    "        # Randomly modify the current solution\n",
    "        pos = random.randint(0, dough_length - 1)\n",
    "        new_biscuit_idx = random.choice([-1, 0, 1, 2, 3])\n",
    "\n",
    "        # Save current state at position\n",
    "        old_biscuit_idx = current_state[pos]\n",
    "\n",
    "        # Update state and calculate new value\n",
    "        current_state[pos] = new_biscuit_idx\n",
    "        new_value = evaluate_state(current_state)\n",
    "\n",
    "        # Calculate change in value\n",
    "        value_change = new_value - current_value\n",
    "\n",
    "        # Decide whether to accept the new solution\n",
    "        if value_change > 0 or random.uniform(0, 1) < math.exp(value_change / temperature):\n",
    "            current_value = new_value\n",
    "            if new_value > best_value:\n",
    "                best_state = current_state.copy()\n",
    "                best_value = new_value\n",
    "        else:\n",
    "            # Revert if not accepted\n",
    "            current_state[pos] = old_biscuit_idx\n",
    "\n",
    "        # Decrease the temperature\n",
    "        temperature *= cooling_rate\n",
    "\n",
    "    return best_state, best_value\n",
    "\n",
    "# Run the algorithm\n",
    "optimal_state, total_value = simulated_annealing()\n",
    "print(\"Optimal State:\", optimal_state)\n",
    "print(\"Total Value:\", total_value)\n"
   ]
  }
 ],
 "metadata": {
  "kernelspec": {
   "display_name": "base",
   "language": "python",
   "name": "python3"
  },
  "language_info": {
   "codemirror_mode": {
    "name": "ipython",
    "version": 3
   },
   "file_extension": ".py",
   "mimetype": "text/x-python",
   "name": "python",
   "nbconvert_exporter": "python",
   "pygments_lexer": "ipython3",
   "version": "3.11.4"
  }
 },
 "nbformat": 4,
 "nbformat_minor": 2
}
