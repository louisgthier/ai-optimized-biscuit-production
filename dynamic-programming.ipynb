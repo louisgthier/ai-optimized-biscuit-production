{
 "cells": [
  {
   "cell_type": "code",
   "execution_count": 27,
   "metadata": {},
   "outputs": [
    {
     "name": "stdout",
     "output_type": "stream",
     "text": [
      "322\n"
     ]
    }
   ],
   "source": [
    "with open(\"defects.csv\") as f:\n",
    "    lines = f.readlines()\n",
    "    defects = [line.strip().split(\",\") for line in lines[1:]]\n",
    "\n",
    "# Defects never occur at precise integer coordinates, so a defect will never be shared by two tiles.\n",
    "defect_counts = {}\n",
    "for x, y in defects:\n",
    "    x = int(float(x))\n",
    "    if x not in defect_counts:\n",
    "        defect_counts[x] = {\"a\": 0, \"b\": 0, \"c\": 0}\n",
    "\n",
    "    defect_counts[x][y] += 1\n",
    "\n",
    "print(len(defect_counts))"
   ]
  },
  {
   "cell_type": "code",
   "execution_count": 30,
   "metadata": {},
   "outputs": [],
   "source": [
    "dough_length = 500\n",
    "\n",
    "biscuits = {\n",
    "    0: {\"length\": 4, \"value\": 6, \"defects\": {\"a\": 4, \"b\": 2, \"c\": 3}, \"id\": 0},\n",
    "    1: {\"length\": 8, \"value\": 12, \"defects\": {\"a\": 5, \"b\": 4, \"c\": 4}, \"id\": 1},\n",
    "    2: {\"length\": 2, \"value\": 1, \"defects\": {\"a\": 1, \"b\": 2, \"c\": 1}, \"id\": 2},\n",
    "    3: {\"length\": 5, \"value\": 8, \"defects\": {\"a\": 2, \"b\": 3, \"c\": 2}, \"id\": 3},\n",
    "}"
   ]
  },
  {
   "cell_type": "code",
   "execution_count": 35,
   "metadata": {},
   "outputs": [
    {
     "name": "stdout",
     "output_type": "stream",
     "text": [
      "781\n"
     ]
    }
   ],
   "source": [
    "# Find best value\n",
    "\n",
    "dp = [0] * (dough_length + 1)\n",
    "\n",
    "for i in range(1, dough_length+1):\n",
    "    for biscuit in biscuits.values():\n",
    "        length = biscuit[\"length\"]\n",
    "        if length <= i:\n",
    "            defect_counts_for_biscuit = {\"a\": 0, \"b\": 0, \"c\": 0}\n",
    "            for j in range(i - length, i-1):\n",
    "                if j in defect_counts:\n",
    "                    for k in defect_counts[j]:\n",
    "                        defect_counts_for_biscuit[k] += defect_counts[j][k]\n",
    "            \n",
    "            if all(defect_counts_for_biscuit[k] <= biscuit[\"defects\"][k] for k in defect_counts_for_biscuit):\n",
    "                dp[i] = max(dp[i], dp[i-1], biscuit[\"value\"] + dp[i - length])\n",
    "\n",
    "print(dp[-1])"
   ]
  },
  {
   "cell_type": "code",
   "execution_count": 36,
   "metadata": {},
   "outputs": [
    {
     "name": "stdout",
     "output_type": "stream",
     "text": [
      "781\n",
      "[(0, 0), (4, 3), (9, 0), (13, 3), (18, 3), (23, 0), (27, 3), (32, 3), (37, 0), (41, 3), (46, 3), (51, 3), (56, 0), (60, 3), (65, 3), (70, 3), (75, 0), (79, 3), (84, 3), (89, 3), (94, 0), (98, 3), (103, 3), (108, 3), (113, 0), (117, 1), (125, 0), (129, 3), (134, 3), (139, 0), (143, 0), (147, 3), (152, 3), (157, 3), (162, 0), (167, 3), (172, 3), (177, 0), (181, 0), (185, 2), (187, 0), (191, 3), (196, 3), (201, 3), (206, 3), (211, 3), (216, 3), (221, 3), (226, 3), (231, 3), (236, 1), (244, 0), (248, 3), (253, 3), (258, 3), (263, 3), (268, 3), (273, 0), (277, 0), (281, 3), (286, 0), (290, 3), (295, 3), (300, 3), (305, 3), (310, 3), (315, 0), (319, 3), (324, 3), (329, 0), (333, 3), (338, 3), (343, 3), (348, 3), (353, 0), (357, 3), (362, 0), (366, 0), (370, 0), (374, 0), (378, 3), (383, 3), (388, 3), (393, 3), (398, 3), (403, 3), (408, 3), (413, 3), (418, 3), (423, 3), (428, 0), (432, 0), (436, 0), (440, 3), (445, 0), (449, 3), (454, 3), (459, 3), (464, 3), (469, 3), (474, 3), (479, 3), (484, 3), (489, 3), (494, 3)]\n"
     ]
    }
   ],
   "source": [
    "# Find best solution\n",
    "\n",
    "dp = [0] * (dough_length + 1)\n",
    "sol = [[] for _ in range(dough_length + 1)]\n",
    "\n",
    "for i in range(1, dough_length+1):\n",
    "    for biscuit in biscuits.values():\n",
    "        length = biscuit[\"length\"]\n",
    "        if length <= i:\n",
    "            defect_counts_for_biscuit = {\"a\": 0, \"b\": 0, \"c\": 0}\n",
    "            for j in range(i - length, i-1):\n",
    "                if j in defect_counts:\n",
    "                    for k in defect_counts[j]:\n",
    "                        defect_counts_for_biscuit[k] += defect_counts[j][k]\n",
    "            \n",
    "            if all(defect_counts_for_biscuit[k] <= biscuit[\"defects\"][k] for k in defect_counts_for_biscuit):\n",
    "                if biscuit[\"value\"] + dp[i - length] > dp[i] and biscuit[\"value\"] + dp[i - length] > dp[i - 1]:\n",
    "                    dp[i] = biscuit[\"value\"] + dp[i - length]\n",
    "                    sol[i] = sol[i - length] + [(i - biscuit[\"length\"], biscuit[\"id\"])]\n",
    "                elif dp[i - 1] > dp[i] and dp[i - 1] > biscuit[\"value\"] + dp[i - length]:\n",
    "                    dp[i] = dp[i - 1]\n",
    "                    sol[i] = sol[i - 1]\n",
    "                else:\n",
    "                    dp[i] = dp[i]\n",
    "                    sol[i] = sol[i]\n",
    "                    \n",
    "\n",
    "print(dp[-1])\n",
    "print(sol[-1])"
   ]
  },
  {
   "cell_type": "code",
   "execution_count": 24,
   "metadata": {},
   "outputs": [
    {
     "name": "stdout",
     "output_type": "stream",
     "text": [
      "0 {'a': 2, 'b': 0, 'c': 0}\n",
      "1 {'a': 1, 'b': 0, 'c': 0}\n",
      "2 {'a': 1, 'b': 1, 'c': 0}\n",
      "3 {'a': 1, 'b': 1, 'c': 0}\n",
      "8 {'a': 0, 'b': 0, 'c': 1}\n",
      "9 {'a': 0, 'b': 0, 'c': 2}\n"
     ]
    }
   ],
   "source": [
    "for i in range(10):\n",
    "    if i in defect_counts:\n",
    "        print(i, defect_counts[i])"
   ]
  },
  {
   "cell_type": "code",
   "execution_count": 37,
   "metadata": {},
   "outputs": [],
   "source": [
    "with open(\"solution.txt\", \"w\") as f:\n",
    "    f.write(\"\\n\".join(str(e[0]) + \",\" + str(e[1]) for e in sol[-1]) + \"\\n\")\n"
   ]
  },
  {
   "cell_type": "code",
   "execution_count": null,
   "metadata": {},
   "outputs": [],
   "source": []
  }
 ],
 "metadata": {
  "kernelspec": {
   "display_name": "Python 3",
   "language": "python",
   "name": "python3"
  },
  "language_info": {
   "codemirror_mode": {
    "name": "ipython",
    "version": 3
   },
   "file_extension": ".py",
   "mimetype": "text/x-python",
   "name": "python",
   "nbconvert_exporter": "python",
   "pygments_lexer": "ipython3",
   "version": "3.9.7"
  }
 },
 "nbformat": 4,
 "nbformat_minor": 2
}
