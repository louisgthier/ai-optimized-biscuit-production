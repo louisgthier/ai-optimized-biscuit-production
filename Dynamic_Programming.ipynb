{
 "cells": [
  {
   "cell_type": "code",
   "execution_count": 1,
   "metadata": {},
   "outputs": [],
   "source": [
    "dough_length = 500\n",
    "\n",
    "biscuits = {\n",
    "    0: {\"length\": 4, \"value\": 6, \"defects\": {\"a\": 4, \"b\": 2, \"c\": 3}, \"id\": 0},\n",
    "    1: {\"length\": 8, \"value\": 12, \"defects\": {\"a\": 5, \"b\": 4, \"c\": 4}, \"id\": 1},\n",
    "    2: {\"length\": 2, \"value\": 1, \"defects\": {\"a\": 1, \"b\": 2, \"c\": 1}, \"id\": 2},\n",
    "    3: {\"length\": 5, \"value\": 8, \"defects\": {\"a\": 2, \"b\": 3, \"c\": 2}, \"id\": 3},\n",
    "}\n",
    "\n",
    "MAX_BISCUIT_LENGTH = max(b[\"length\"] for b in biscuits.values())"
   ]
  },
  {
   "cell_type": "code",
   "execution_count": 1,
   "metadata": {},
   "outputs": [
    {
     "name": "stdout",
     "output_type": "stream",
     "text": [
      "322\n"
     ]
    }
   ],
   "source": [
    "with open(\"defects.csv\") as f:\n",
    "    lines = f.readlines()\n",
    "    defects = [line.strip().split(\",\") for line in lines[1:]]\n",
    "\n",
    "# Defects never occur at precise integer coordinates, so a defect will never be shared by two tiles.\n",
    "defect_counts = {}\n",
    "for x, y in defects:\n",
    "    x = int(float(x))\n",
    "    if x not in defect_counts:\n",
    "        defect_counts[x] = {\"a\": 0, \"b\": 0, \"c\": 0}\n",
    "\n",
    "    defect_counts[x][y] += 1\n",
    "\n",
    "for x in range(dough_length):\n",
    "    if x not in defect_counts:\n",
    "        defect_counts[x] = {\"a\": 0, \"b\": 0, \"c\": 0}\n",
    "\n",
    "print(len(defect_counts))"
   ]
  },
  {
   "cell_type": "code",
   "execution_count": 4,
   "metadata": {},
   "outputs": [
    {
     "name": "stdout",
     "output_type": "stream",
     "text": [
      "760\n"
     ]
    }
   ],
   "source": [
    "# Find best value\n",
    "\n",
    "dp = [0] * (dough_length + 1)\n",
    "\n",
    "for i in range(1, dough_length+1):\n",
    "    for biscuit in biscuits.values():\n",
    "        length = biscuit[\"length\"]\n",
    "        if length <= i:\n",
    "            defect_counts_for_biscuit = {\"a\": 0, \"b\": 0, \"c\": 0}\n",
    "            for j in range(i - length, i):\n",
    "                if j in defect_counts:\n",
    "                    for k in defect_counts[j]:\n",
    "                        defect_counts_for_biscuit[k] += defect_counts[j][k]\n",
    "            \n",
    "            if all(defect_counts_for_biscuit[k] <= biscuit[\"defects\"][k] for k in defect_counts_for_biscuit):\n",
    "                dp[i] = max(dp[i], dp[i-1], biscuit[\"value\"] + dp[i - length])\n",
    "    dp[i] = max(dp[i], dp[i-1])\n",
    "\n",
    "print(dp[-1])"
   ]
  },
  {
   "cell_type": "code",
   "execution_count": 5,
   "metadata": {},
   "outputs": [
    {
     "name": "stdout",
     "output_type": "stream",
     "text": [
      "760\n",
      "[(0, 1), (8, 1), (16, 0), (20, 0), (24, 0), (28, 1), (36, 0), (41, 3), (46, 0), (50, 0), (54, 3), (59, 3), (64, 0), (68, 3), (73, 0), (77, 1), (85, 0), (89, 0), (93, 0), (99, 3), (104, 3), (109, 0), (114, 0), (118, 0), (122, 0), (126, 3), (131, 3), (136, 0), (140, 0), (144, 3), (149, 1), (158, 0), (162, 0), (167, 3), (172, 0), (176, 1), (186, 0), (190, 3), (195, 3), (200, 3), (205, 3), (210, 3), (215, 3), (220, 3), (225, 0), (229, 0), (233, 0), (237, 3), (242, 0), (246, 0), (250, 3), (255, 3), (260, 3), (265, 3), (270, 3), (275, 0), (279, 0), (283, 3), (288, 3), (293, 1), (301, 1), (309, 3), (314, 0), (318, 3), (323, 3), (328, 1), (336, 3), (341, 0), (345, 0), (349, 3), (354, 1), (362, 0), (366, 0), (370, 0), (374, 0), (378, 3), (383, 3), (388, 3), (393, 3), (398, 0), (402, 3), (407, 3), (412, 3), (417, 3), (422, 3), (427, 0), (431, 0), (435, 0), (439, 3), (444, 0), (448, 3), (453, 0), (457, 3), (462, 3), (467, 3), (472, 0), (476, 0), (480, 0), (484, 0), (488, 0), (492, 0), (496, 0)]\n"
     ]
    }
   ],
   "source": [
    "# Find best solution\n",
    "\n",
    "dp = [0] * (dough_length + 1)\n",
    "sol = [[] for _ in range(dough_length + 1)]\n",
    "\n",
    "for i in range(1, dough_length+1):\n",
    "    for biscuit in biscuits.values():\n",
    "        length = biscuit[\"length\"]\n",
    "        if length <= i:\n",
    "            defect_counts_for_biscuit = {\"a\": 0, \"b\": 0, \"c\": 0}\n",
    "            for j in range(i - length, i):\n",
    "                if j in defect_counts:\n",
    "                    for k in defect_counts[j]:\n",
    "                        defect_counts_for_biscuit[k] += defect_counts[j][k]\n",
    "            \n",
    "            if all(defect_counts_for_biscuit[k] <= biscuit[\"defects\"][k] for k in defect_counts_for_biscuit):\n",
    "                if biscuit[\"value\"] + dp[i - length] > dp[i] and biscuit[\"value\"] + dp[i - length] > dp[i - 1]:\n",
    "                    dp[i] = biscuit[\"value\"] + dp[i - length]\n",
    "                    sol[i] = sol[i - length] + [(i - biscuit[\"length\"], biscuit[\"id\"])]\n",
    "                elif dp[i - 1] > dp[i] and dp[i - 1] > biscuit[\"value\"] + dp[i - length]:\n",
    "                    dp[i] = dp[i - 1]\n",
    "                    sol[i] = sol[i - 1]\n",
    "                else:\n",
    "                    dp[i] = dp[i]\n",
    "                    sol[i] = sol[i]\n",
    "    if dp[i] == 0:\n",
    "        dp[i] = dp[i-1]\n",
    "        sol[i] = sol[i-1]\n",
    "                    \n",
    "\n",
    "print(dp[-1])\n",
    "print(sol[-1])"
   ]
  },
  {
   "cell_type": "code",
   "execution_count": 8,
   "metadata": {},
   "outputs": [
    {
     "name": "stdout",
     "output_type": "stream",
     "text": [
      "0 {'a': 2, 'b': 0, 'c': 0}\n",
      "1 {'a': 1, 'b': 0, 'c': 0}\n",
      "2 {'a': 1, 'b': 1, 'c': 0}\n",
      "3 {'a': 1, 'b': 1, 'c': 0}\n",
      "8 {'a': 0, 'b': 0, 'c': 1}\n",
      "9 {'a': 0, 'b': 0, 'c': 2}\n"
     ]
    }
   ],
   "source": [
    "for i in range(10):\n",
    "    if i in defect_counts:\n",
    "        print(i, defect_counts[i])"
   ]
  },
  {
   "cell_type": "code",
   "execution_count": 11,
   "metadata": {},
   "outputs": [],
   "source": [
    "with open(\"solution.txt\", \"w\") as f:\n",
    "    f.write(\"\\n\".join(str(e[0]) + \",\" + str(e[1]) for e in sol[-1]) + \"\\n\")\n"
   ]
  }
 ],
 "metadata": {
  "kernelspec": {
   "display_name": "Python 3",
   "language": "python",
   "name": "python3"
  },
  "language_info": {
   "codemirror_mode": {
    "name": "ipython",
    "version": 3
   },
   "file_extension": ".py",
   "mimetype": "text/x-python",
   "name": "python",
   "nbconvert_exporter": "python",
   "pygments_lexer": "ipython3",
   "version": "3.9.7"
  }
 },
 "nbformat": 4,
 "nbformat_minor": 2
}
