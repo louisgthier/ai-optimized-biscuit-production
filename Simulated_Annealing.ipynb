{
 "cells": [
  {
   "cell_type": "code",
   "execution_count": 1,
   "metadata": {},
   "outputs": [],
   "source": [
    "import math\n",
    "import random\n",
    "import time"
   ]
  },
  {
   "cell_type": "code",
   "execution_count": 2,
   "metadata": {},
   "outputs": [],
   "source": [
    "dough_length = 500\n",
    "\n",
    "biscuits = {\n",
    "    0: {\"length\": 4, \"value\": 6, \"defects\": {\"a\": 4, \"b\": 2, \"c\": 3}, \"id\": 0},\n",
    "    1: {\"length\": 8, \"value\": 12, \"defects\": {\"a\": 5, \"b\": 4, \"c\": 4}, \"id\": 1},\n",
    "    2: {\"length\": 2, \"value\": 1, \"defects\": {\"a\": 1, \"b\": 2, \"c\": 1}, \"id\": 2},\n",
    "    3: {\"length\": 5, \"value\": 8, \"defects\": {\"a\": 2, \"b\": 3, \"c\": 2}, \"id\": 3},\n",
    "}\n",
    "\n",
    "MAX_BISCUIT_LENGTH = max(b[\"length\"] for b in biscuits.values())"
   ]
  },
  {
   "cell_type": "code",
   "execution_count": 3,
   "metadata": {},
   "outputs": [
    {
     "name": "stdout",
     "output_type": "stream",
     "text": [
      "500\n"
     ]
    }
   ],
   "source": [
    "with open(\"defects.csv\") as f:\n",
    "    lines = f.readlines()\n",
    "    defects = [line.strip().split(\",\") for line in lines[1:]]\n",
    "\n",
    "# Defects never occur at precise integer coordinates, so a defect will never be shared by two tiles.\n",
    "# We floor each defect coordinate to get the tile it belongs to.\n",
    "# We then count the number of defects in each tile.\n",
    "defect_counts = {}\n",
    "for x, y in defects:\n",
    "    x = int(float(x))\n",
    "    if x not in defect_counts:\n",
    "        defect_counts[x] = {\"a\": 0, \"b\": 0, \"c\": 0}\n",
    "\n",
    "    defect_counts[x][y] += 1\n",
    "\n",
    "for x in range(dough_length):\n",
    "    if x not in defect_counts:\n",
    "        defect_counts[x] = {\"a\": 0, \"b\": 0, \"c\": 0}\n",
    "\n",
    "print(len(defect_counts))"
   ]
  },
  {
   "cell_type": "code",
   "execution_count": 4,
   "metadata": {},
   "outputs": [],
   "source": [
    "class SimulatedAnnealing:\n",
    "    \"\"\"\n",
    "    Simulated Annealing Algorithm for the Biscuit Problem\n",
    "    \"\"\"\n",
    "    \n",
    "    def __init__(self, state, temperature=1.0, cooling_rate=0.99, min_temperature=0.01):\n",
    "        self.state = state\n",
    "        self.temperature = temperature\n",
    "        self.cooling_rate = cooling_rate\n",
    "        self.min_temperature = min_temperature\n",
    "        self.best_state = state\n",
    "        self.history = []\n",
    "        self.best_value = 0\n",
    "\n",
    "    @staticmethod\n",
    "    def evaluate_state(state):\n",
    "        \"\"\"\n",
    "        Evaluates the value of a state.\n",
    "\n",
    "        Parameters:\n",
    "        - state (list): The state to evaluate.\n",
    "\n",
    "        Returns:\n",
    "        - value (float): The value of the state.\n",
    "        \"\"\"\n",
    "        return sum(biscuits[biscuit][\"value\"] for biscuit in state if biscuit != -1)\n",
    "\n",
    "    @staticmethod\n",
    "    def apply_change(state, pos, new_biscuit):\n",
    "        \"\"\"\n",
    "        Applies a change to the state and returns the new state if the change is valid, otherwise returns None.\n",
    "        If biscuits are overlapping with the new biscuit, they are removed.\n",
    "        \n",
    "        Parameters:\n",
    "        - state (list): The current state.\n",
    "        - pos (int): The position to place the new biscuit.\n",
    "        - new_biscuit (int): The new biscuit to place.\n",
    "        \n",
    "        Returns:\n",
    "        - new_state (list): The new state if the change is valid, otherwise None.\n",
    "        \"\"\"\n",
    "\n",
    "        state[pos] = new_biscuit\n",
    "\n",
    "        if new_biscuit == -1:\n",
    "            return state\n",
    "\n",
    "        if pos + biscuits[new_biscuit][\"length\"] - 1 >= dough_length:\n",
    "            return None\n",
    "\n",
    "        # Place new biscuit and remove overlapping biscuits\n",
    "        for i in range(max(pos - MAX_BISCUIT_LENGTH, 0), pos):\n",
    "            if state[i] != -1 and i + biscuits[state[i]][\"length\"] - 1 >= pos:\n",
    "                state[i] = -1\n",
    "        for i in range(pos + 1, min(pos + biscuits[new_biscuit][\"length\"], dough_length)):\n",
    "            state[i] = -1\n",
    "\n",
    "        biscuit_defects = {\"a\": 0, \"b\": 0, \"c\": 0}\n",
    "\n",
    "        # Count biscuit defects\n",
    "        for i in range(pos, pos + biscuits[new_biscuit][\"length\"]):\n",
    "            for defect_type in [\"a\", \"b\", \"c\"]:\n",
    "                biscuit_defects[defect_type] += defect_counts[i][defect_type]\n",
    "        \n",
    "        valid = True\n",
    "        # Compare with threshold\n",
    "        for defect_type in [\"a\", \"b\", \"c\"]:\n",
    "            if biscuit_defects[defect_type] > biscuits[new_biscuit][\"defects\"][defect_type]:\n",
    "                valid = False\n",
    "                break\n",
    "        \n",
    "        return state if valid else None\n",
    "\n",
    "    # Simulated Annealing Algorithm\n",
    "    def run(self, max_time=120):\n",
    "        \"\"\"\n",
    "        Runs the simulated annealing algorithm to optimize the biscuit production.\n",
    "\n",
    "        Parameters:\n",
    "        - max_time (int): The maximum time in seconds to run the algorithm. Default is 120 seconds.\n",
    "\n",
    "        Returns:\n",
    "        - best_state (list): The best state found by the algorithm.\n",
    "        - best_value (float): The value of the best state found by the algorithm.\n",
    "        \"\"\"\n",
    "        \n",
    "        start_time = time.time()\n",
    "        self.state\n",
    "        self.value = SimulatedAnnealing.evaluate_state(self.state)\n",
    "        self.history.append((self.value, self.best_value, self.temperature))\n",
    "        self.best_state = self.state.copy()\n",
    "        self.best_value = self.value\n",
    "\n",
    "        last_print_time = time.time()\n",
    "        while self.temperature > self.min_temperature and time.time() - start_time < max_time:\n",
    "            new_state = self.state.copy()\n",
    "\n",
    "            # Randomly modify the current solution\n",
    "            pos = random.randint(0, dough_length - 1)\n",
    "            choice_list = [-1, 0, 1, 2, 3]\n",
    "            choice_list.remove(self.state[pos])\n",
    "            new_biscuit = random.choice(choice_list)\n",
    "            \n",
    "            # Update state and calculate new value\n",
    "            new_state = SimulatedAnnealing.apply_change(new_state, pos, new_biscuit)\n",
    "            if new_state is None:\n",
    "                continue\n",
    "            new_value = SimulatedAnnealing.evaluate_state(new_state)\n",
    "\n",
    "            # Calculate change in value\n",
    "            value_change = new_value - self.value\n",
    "\n",
    "            # Decide whether to accept the new solution\n",
    "            if value_change >= 0 or random.uniform(0, 1) < math.exp(value_change / self.temperature):\n",
    "                self.value = new_value\n",
    "                if new_value > self.best_value:\n",
    "                    self.best_state = new_state.copy()\n",
    "                    self.best_value = new_value\n",
    "                self.state = new_state.copy()\n",
    "\n",
    "            # Decrease the temperature\n",
    "            self.temperature *= self.cooling_rate\n",
    "            self.history.append((self.value, self.best_value, self.temperature))\n",
    "\n",
    "            if time.time() - last_print_time > 1:\n",
    "                print(f\"Iteration {len(self.history)}: value = {self.value}, best_value = {self.best_value}, temperature = {self.temperature}\")\n",
    "                last_print_time = time.time()\n",
    "\n",
    "        return self.best_state, self.best_value\n"
   ]
  },
  {
   "cell_type": "code",
   "execution_count": 5,
   "metadata": {},
   "outputs": [
    {
     "name": "stdout",
     "output_type": "stream",
     "text": [
      "Iteration 19874: value = 686, best_value = 696, temperature = 0.8197703871094668\n",
      "Iteration 40589: value = 706, best_value = 708, temperature = 0.6663887770640605\n",
      "Iteration 62045: value = 704, best_value = 711, temperature = 0.5377061260233846\n",
      "Iteration 81255: value = 723, best_value = 724, temperature = 0.44372775779687046\n",
      "Iteration 101234: value = 721, best_value = 724, temperature = 0.36336949797146284\n",
      "Iteration 121033: value = 723, best_value = 724, temperature = 0.29810006756833063\n",
      "Iteration 138944: value = 724, best_value = 724, temperature = 0.24921558667123755\n",
      "Iteration 159081: value = 725, best_value = 725, temperature = 0.20376091575352492\n",
      "Iteration 177350: value = 725, best_value = 725, temperature = 0.1697380576660332\n",
      "Iteration 197740: value = 725, best_value = 725, temperature = 0.13842870004812122\n",
      "Iteration 218013: value = 725, best_value = 725, temperature = 0.11302673439761064\n",
      "Iteration 239358: value = 725, best_value = 725, temperature = 0.09130205641526881\n",
      "Iteration 260809: value = 725, best_value = 725, temperature = 0.07367490495071434\n",
      "Iteration 282208: value = 725, best_value = 725, temperature = 0.05948184670178591\n",
      "Iteration 302465: value = 725, best_value = 725, temperature = 0.04857457061986171\n",
      "Iteration 323065: value = 725, best_value = 725, temperature = 0.03953155151893067\n",
      "Iteration 344465: value = 725, best_value = 725, temperature = 0.03191570012623588\n",
      "Iteration 365818: value = 725, best_value = 725, temperature = 0.025779174808704754\n",
      "Iteration 387003: value = 725, best_value = 725, temperature = 0.020857548660117905\n",
      "Iteration 408218: value = 725, best_value = 725, temperature = 0.01687047188507573\n",
      "Iteration 429562: value = 725, best_value = 725, temperature = 0.013627963218211251\n",
      "Iteration 450889: value = 725, best_value = 725, temperature = 0.011010537121834281\n",
      "Best State: [1, -1, -1, -1, -1, -1, -1, -1, 1, -1, -1, -1, -1, -1, -1, -1, 1, -1, -1, -1, -1, -1, -1, -1, 0, -1, -1, -1, 1, -1, -1, -1, -1, -1, -1, -1, 0, -1, -1, -1, 1, -1, -1, -1, -1, -1, -1, -1, 2, -1, -1, 1, -1, -1, -1, -1, -1, -1, -1, 1, -1, -1, -1, -1, -1, -1, -1, 2, -1, 1, -1, -1, -1, -1, -1, -1, -1, 1, -1, -1, -1, -1, -1, -1, -1, 1, -1, -1, -1, -1, -1, -1, -1, 0, -1, -1, -1, -1, 1, -1, -1, -1, -1, -1, -1, -1, 2, -1, 3, -1, -1, -1, -1, -1, 0, -1, -1, -1, 0, -1, -1, -1, 2, -1, 1, -1, -1, -1, -1, -1, -1, -1, 1, -1, -1, -1, -1, -1, -1, -1, 0, -1, -1, -1, 3, -1, -1, -1, -1, 1, -1, -1, -1, -1, -1, -1, -1, -1, 1, -1, -1, -1, -1, -1, -1, -1, -1, 1, -1, -1, -1, -1, -1, -1, -1, 1, -1, -1, -1, -1, -1, -1, -1, -1, -1, 2, -1, 1, -1, -1, -1, -1, -1, -1, -1, 1, -1, -1, -1, -1, -1, -1, -1, 1, -1, -1, -1, -1, -1, -1, -1, 3, -1, -1, -1, -1, 0, -1, -1, -1, 1, -1, -1, -1, -1, -1, -1, -1, 1, -1, -1, -1, -1, -1, -1, -1, 1, -1, -1, -1, -1, -1, -1, -1, 1, -1, -1, -1, -1, -1, -1, -1, 3, -1, -1, -1, -1, 3, -1, -1, -1, -1, 1, -1, -1, -1, -1, -1, -1, -1, 1, -1, -1, -1, -1, -1, -1, -1, 1, -1, -1, -1, -1, -1, -1, -1, 1, -1, -1, -1, -1, -1, -1, -1, 3, -1, -1, -1, -1, -1, 1, -1, -1, -1, -1, -1, -1, -1, 1, -1, -1, -1, -1, -1, -1, -1, 1, -1, -1, -1, -1, -1, -1, -1, 3, -1, -1, -1, -1, 1, -1, -1, -1, -1, -1, -1, -1, 1, -1, -1, -1, -1, -1, -1, -1, 1, -1, -1, -1, -1, -1, -1, -1, 0, -1, -1, -1, 1, -1, -1, -1, -1, -1, -1, -1, 0, -1, -1, -1, 0, -1, -1, -1, 1, -1, -1, -1, -1, -1, -1, -1, -1, 1, -1, -1, -1, -1, -1, -1, -1, 1, -1, -1, -1, -1, -1, -1, -1, 2, -1, 1, -1, -1, -1, -1, -1, -1, -1, 1, -1, -1, -1, -1, -1, -1, -1, 1, -1, -1, -1, -1, -1, -1, -1, 1, -1, -1, -1, -1, -1, -1, -1, -1, 1, -1, -1, -1, -1, -1, -1, -1, 2, -1, 1, -1, -1, -1, -1, -1, -1, -1, 1, -1, -1, -1, -1, -1, -1, -1, 3, -1, -1, -1, -1, 1, -1, -1, -1, -1, -1, -1, -1, 1, -1, -1, -1, -1, -1, -1, -1, 0, -1, -1, -1, 1, -1, -1, -1, -1, -1, -1, -1, 1, -1, -1, -1, -1, -1, -1, -1]\n",
      "Total Value: 725\n"
     ]
    }
   ],
   "source": [
    "# Run the algorithm\n",
    "starting_state = [-1] * dough_length\n",
    "simulated_annealing = SimulatedAnnealing(starting_state, temperature=1.0, cooling_rate=0.99999, min_temperature=0.01)\n",
    "best_state, total_value = simulated_annealing.run(max_time=150)\n",
    "print(\"Best State:\", best_state)\n",
    "print(\"Total Value:\", total_value)\n"
   ]
  },
  {
   "cell_type": "code",
   "execution_count": 9,
   "metadata": {},
   "outputs": [
    {
     "data": {
      "image/png": "[encoded data removed]",
      "text/plain": [
       "<Figure size 864x576 with 2 Axes>"
      ]
     },
     "metadata": {},
     "output_type": "display_data"
    }
   ],
   "source": [
    "# Plot the value history, along with the temperature and best value\n",
    "import seaborn as sns\n",
    "import matplotlib.pyplot as plt\n",
    "\n",
    "sns.set_theme()\n",
    "plt.figure(figsize=(12, 8))\n",
    "\n",
    "value_history, best_value_history, temperature_history = zip(*simulated_annealing.history)\n",
    "\n",
    "# Plotting Value and Best Value on the primary y-axis\n",
    "ax1 = plt.gca()\n",
    "ax1.plot(value_history, label=\"Value\", color='b')\n",
    "ax1.plot(best_value_history, label=\"Best Value\", color='g')\n",
    "ax1.set_ylabel('Value')\n",
    "\n",
    "# Creating a secondary y-axis for Temperature\n",
    "ax2 = plt.gca().twinx()\n",
    "ax2.plot(temperature_history, label=\"Temperature\", color='r')\n",
    "ax2.set_ylabel('Temperature')\n",
    "ax2.set_ylim(0, 1)  # Setting the limit for temperature scale\n",
    "\n",
    "# Adding legends\n",
    "ax1.legend(loc='upper left')\n",
    "ax2.legend(loc='upper right')\n",
    "plt.savefig(\"fitness_history_sa.png\", dpi=300)\n",
    "plt.show()"
   ]
  },
  {
   "cell_type": "code",
   "execution_count": 7,
   "metadata": {},
   "outputs": [
    {
     "name": "stdout",
     "output_type": "stream",
     "text": [
      "(725, [(0, 1), (8, 1), (16, 1), (24, 0), (28, 1), (36, 0), (40, 1), (48, 2), (51, 1), (59, 1), (67, 2), (69, 1), (77, 1), (85, 1), (93, 0), (98, 1), (106, 2), (108, 3), (114, 0), (118, 0), (122, 2), (124, 1), (132, 1), (140, 0), (144, 3), (149, 1), (158, 1), (167, 1), (175, 1), (185, 2), (187, 1), (195, 1), (203, 1), (211, 3), (216, 0), (220, 1), (228, 1), (236, 1), (244, 1), (252, 3), (257, 3), (262, 1), (270, 1), (278, 1), (286, 1), (294, 3), (300, 1), (308, 1), (316, 1), (324, 3), (329, 1), (337, 1), (345, 1), (353, 0), (357, 1), (365, 0), (369, 0), (373, 1), (382, 1), (390, 1), (398, 2), (400, 1), (408, 1), (416, 1), (424, 1), (433, 1), (441, 2), (443, 1), (451, 1), (459, 3), (464, 1), (472, 1), (480, 0), (484, 1), (492, 1)], True)\n"
     ]
    }
   ],
   "source": [
    "from utils import check_solution\n",
    "# Build and check solution\n",
    "solution = [(x, best_state[x]) for x in range(dough_length) if best_state[x] != -1]\n",
    "print(check_solution(solution))"
   ]
  },
  {
   "cell_type": "code",
   "execution_count": 8,
   "metadata": {},
   "outputs": [],
   "source": [
    "from utils import save_solution\n",
    "# Save solution\n",
    "save_solution(solution, \"solution_simulated_annealing.txt\")"
   ]
  }
 ],
 "metadata": {
  "kernelspec": {
   "display_name": "base",
   "language": "python",
   "name": "python3"
  },
  "language_info": {
   "codemirror_mode": {
    "name": "ipython",
    "version": 3
   },
   "file_extension": ".py",
   "mimetype": "text/x-python",
   "name": "python",
   "nbconvert_exporter": "python",
   "pygments_lexer": "ipython3",
   "version": "3.9.7"
  }
 },
 "nbformat": 4,
 "nbformat_minor": 2
}
