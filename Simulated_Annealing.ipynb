{
 "cells": [
  {
   "cell_type": "code",
   "execution_count": 1,
   "metadata": {},
   "outputs": [],
   "source": [
    "dough_length = 500\n",
    "\n",
    "biscuits = {\n",
    "    0: {\"length\": 4, \"value\": 6, \"defects\": {\"a\": 4, \"b\": 2, \"c\": 3}, \"id\": 0},\n",
    "    1: {\"length\": 8, \"value\": 12, \"defects\": {\"a\": 5, \"b\": 4, \"c\": 4}, \"id\": 1},\n",
    "    2: {\"length\": 2, \"value\": 1, \"defects\": {\"a\": 1, \"b\": 2, \"c\": 1}, \"id\": 2},\n",
    "    3: {\"length\": 5, \"value\": 8, \"defects\": {\"a\": 2, \"b\": 3, \"c\": 2}, \"id\": 3},\n",
    "}\n",
    "\n",
    "MAX_BISCUIT_LENGTH = max(b[\"length\"] for b in biscuits.values())"
   ]
  },
  {
   "cell_type": "code",
   "execution_count": 2,
   "metadata": {},
   "outputs": [
    {
     "name": "stdout",
     "output_type": "stream",
     "text": [
      "500\n"
     ]
    }
   ],
   "source": [
    "with open(\"defects.csv\") as f:\n",
    "    lines = f.readlines()\n",
    "    defects = [line.strip().split(\",\") for line in lines[1:]]\n",
    "\n",
    "# Defects never occur at precise integer coordinates, so a defect will never be shared by two tiles.\n",
    "defect_counts = {}\n",
    "for x, y in defects:\n",
    "    x = int(float(x))\n",
    "    if x not in defect_counts:\n",
    "        defect_counts[x] = {\"a\": 0, \"b\": 0, \"c\": 0}\n",
    "\n",
    "    defect_counts[x][y] += 1\n",
    "\n",
    "for x in range(dough_length):\n",
    "    if x not in defect_counts:\n",
    "        defect_counts[x] = {\"a\": 0, \"b\": 0, \"c\": 0}\n",
    "\n",
    "print(len(defect_counts))"
   ]
  },
  {
   "cell_type": "code",
   "execution_count": 3,
   "metadata": {},
   "outputs": [],
   "source": [
    "# Function to evaluate the total value of the biscuits in the current state\n",
    "def evaluate_state(state):\n",
    "    total_value = 0\n",
    "    pos = 0\n",
    "    while pos < dough_length:\n",
    "        biscuit_idx = state[pos]\n",
    "        if biscuit_idx != -1:\n",
    "            biscuit = biscuits[biscuit_idx]\n",
    "            total_value += biscuit[\"value\"]\n",
    "            pos += biscuit[\"length\"]\n",
    "        else:\n",
    "            pos += 1\n",
    "    return total_value"
   ]
  },
  {
   "cell_type": "code",
   "execution_count": 4,
   "metadata": {},
   "outputs": [],
   "source": [
    "import math\n",
    "import random\n",
    "\n",
    "\n",
    "def apply_change(state, pos, new_biscuit):\n",
    "\n",
    "    state[pos] = new_biscuit\n",
    "\n",
    "    if new_biscuit == -1:\n",
    "        return state\n",
    "\n",
    "    if pos + biscuits[new_biscuit][\"length\"] - 1 >= dough_length:\n",
    "        return None\n",
    "\n",
    "    # Place new biscuit and remove overlapping biscuits\n",
    "    for i in range(max(pos - MAX_BISCUIT_LENGTH, 0), pos):\n",
    "        if state[i] != -1 and i + biscuits[state[i]][\"length\"] - 1 >= pos:\n",
    "            state[i] = -1\n",
    "    for i in range(pos + 1, min(pos + biscuits[new_biscuit][\"length\"], dough_length)):\n",
    "        state[i] = -1\n",
    "\n",
    "    biscuit_defects = {\"a\": 0, \"b\": 0, \"c\": 0}\n",
    "\n",
    "    # Count biscuit defects\n",
    "    for i in range(pos, pos + biscuits[new_biscuit][\"length\"]):\n",
    "        for defect_type in [\"a\", \"b\", \"c\"]:\n",
    "            biscuit_defects[defect_type] += defect_counts[i][defect_type]\n",
    "    \n",
    "    valid = True\n",
    "    # Compare with threshold\n",
    "    for defect_type in [\"a\", \"b\", \"c\"]:\n",
    "        if biscuit_defects[defect_type] > biscuits[new_biscuit][\"defects\"][defect_type]:\n",
    "            valid = False\n",
    "            break\n",
    "    \n",
    "    return state if valid else None\n",
    "\n",
    "# Simulated Annealing Algorithm\n",
    "def simulated_annealing(state, temperature=1.0, cooling_rate=0.99, min_temperature=0.01):\n",
    "    current_state = state\n",
    "    current_value = evaluate_state(current_state)\n",
    "    best_state = current_state.copy()\n",
    "    best_value = current_value\n",
    "\n",
    "    while temperature > min_temperature:\n",
    "        new_state = current_state.copy()\n",
    "\n",
    "        # Randomly modify the current solution\n",
    "        pos = random.randint(0, dough_length - 1)\n",
    "        choice_list = [-1, 0, 1, 2, 3]\n",
    "        choice_list.remove(current_state[pos])\n",
    "        new_biscuit = random.choice(choice_list)\n",
    "        \n",
    "        # Update state and calculate new value\n",
    "        new_state = apply_change(new_state, pos, new_biscuit)\n",
    "        if new_state is None:\n",
    "            continue\n",
    "        new_value = evaluate_state(new_state)\n",
    "\n",
    "        # Calculate change in value\n",
    "        value_change = new_value - current_value\n",
    "\n",
    "        # Decide whether to accept the new solution\n",
    "        if value_change >= 0 or random.uniform(0, 1) < math.exp(value_change / temperature):\n",
    "            current_value = new_value\n",
    "            if new_value > best_value:\n",
    "                best_state = new_state.copy()\n",
    "                best_value = new_value\n",
    "            current_state = new_state.copy()\n",
    "\n",
    "        # Decrease the temperature\n",
    "        temperature *= cooling_rate\n",
    "\n",
    "    return best_state, best_value"
   ]
  },
  {
   "cell_type": "code",
   "execution_count": 5,
   "metadata": {},
   "outputs": [
    {
     "name": "stdout",
     "output_type": "stream",
     "text": [
      "Optimal State: [1, -1, -1, -1, -1, -1, -1, -1, 1, -1, -1, -1, -1, -1, -1, -1, 0, -1, -1, -1, 1, -1, -1, -1, -1, -1, -1, -1, 1, -1, -1, -1, -1, -1, -1, -1, 0, -1, -1, -1, 1, -1, -1, -1, -1, -1, -1, -1, 2, -1, -1, 1, -1, -1, -1, -1, -1, -1, -1, 1, -1, -1, -1, -1, -1, -1, -1, 3, -1, -1, -1, -1, -1, 1, -1, -1, -1, -1, -1, -1, -1, 1, -1, -1, -1, -1, -1, -1, -1, 1, -1, -1, -1, -1, -1, -1, -1, -1, -1, -1, 3, -1, -1, -1, -1, 1, -1, -1, -1, -1, -1, -1, -1, -1, 0, -1, -1, -1, 0, -1, -1, -1, 1, -1, -1, -1, -1, -1, -1, -1, 1, -1, -1, -1, -1, -1, -1, -1, 2, -1, 0, -1, -1, -1, 1, -1, -1, -1, -1, -1, -1, -1, 3, -1, -1, -1, -1, -1, 1, -1, -1, -1, -1, -1, -1, -1, -1, -1, 1, -1, -1, -1, -1, -1, -1, -1, 1, -1, -1, -1, -1, -1, -1, -1, -1, 2, -1, 1, -1, -1, -1, -1, -1, -1, -1, 3, -1, -1, -1, -1, 1, -1, -1, -1, -1, -1, -1, -1, 1, -1, -1, -1, -1, -1, -1, -1, 1, -1, -1, -1, -1, -1, -1, -1, 1, -1, -1, -1, -1, -1, -1, -1, 3, -1, -1, -1, -1, 1, -1, -1, -1, -1, -1, -1, -1, 1, -1, -1, -1, -1, -1, -1, -1, 1, -1, -1, -1, -1, -1, -1, -1, 1, -1, -1, -1, -1, -1, -1, -1, -1, 1, -1, -1, -1, -1, -1, -1, -1, 1, -1, -1, -1, -1, -1, -1, -1, 1, -1, -1, -1, -1, -1, -1, -1, 1, -1, -1, -1, -1, -1, -1, -1, 1, -1, -1, -1, -1, -1, -1, -1, 1, -1, -1, -1, -1, -1, -1, -1, 1, -1, -1, -1, -1, -1, -1, -1, 1, -1, -1, -1, -1, -1, -1, -1, 1, -1, -1, -1, -1, -1, -1, -1, 0, -1, -1, -1, 1, -1, -1, -1, -1, -1, -1, -1, 1, -1, -1, -1, -1, -1, -1, -1, 0, -1, -1, -1, 0, -1, -1, -1, 0, -1, -1, -1, 1, -1, -1, -1, -1, -1, -1, -1, 1, -1, -1, -1, -1, -1, -1, -1, 1, -1, -1, -1, -1, -1, -1, -1, 1, -1, -1, -1, -1, -1, -1, -1, 2, -1, 3, -1, -1, -1, -1, 1, -1, -1, -1, -1, -1, -1, -1, 1, -1, -1, -1, -1, -1, -1, -1, 1, -1, -1, -1, -1, -1, -1, -1, 1, -1, -1, -1, -1, -1, -1, -1, 1, -1, -1, -1, -1, -1, -1, -1, 2, -1, 1, -1, -1, -1, -1, -1, -1, -1, 1, -1, -1, -1, -1, -1, -1, -1, 1, -1, -1, -1, -1, -1, -1, -1, 1, -1, -1, -1, -1, -1, -1, -1, 3, -1, -1, -1, -1, 1, -1, -1, -1, -1, -1, -1, -1]\n",
      "Total Value: 727\n"
     ]
    }
   ],
   "source": [
    "# Run the algorithm\n",
    "starting_state = [-1] * dough_length\n",
    "optimal_state, total_value = simulated_annealing(starting_state, temperature=1.0, cooling_rate=0.99999, min_temperature=0.001)\n",
    "print(\"Optimal State:\", optimal_state)\n",
    "print(\"Total Value:\", total_value)\n"
   ]
  },
  {
   "cell_type": "code",
   "execution_count": 6,
   "metadata": {},
   "outputs": [
    {
     "name": "stdout",
     "output_type": "stream",
     "text": [
      "(727, [(0, 1), (8, 1), (16, 0), (20, 1), (28, 1), (36, 0), (40, 1), (48, 2), (51, 1), (59, 1), (67, 3), (73, 1), (81, 1), (89, 1), (100, 3), (105, 1), (114, 0), (118, 0), (122, 1), (130, 1), (138, 2), (140, 0), (144, 1), (152, 3), (158, 1), (168, 1), (176, 1), (185, 2), (187, 1), (195, 3), (200, 1), (208, 1), (216, 1), (224, 1), (232, 3), (237, 1), (245, 1), (253, 1), (261, 1), (270, 1), (278, 1), (286, 1), (294, 1), (302, 1), (310, 1), (318, 1), (326, 1), (334, 1), (342, 0), (346, 1), (354, 1), (362, 0), (366, 0), (370, 0), (374, 1), (382, 1), (390, 1), (398, 1), (406, 2), (408, 3), (413, 1), (421, 1), (429, 1), (437, 1), (445, 1), (453, 2), (455, 1), (463, 1), (471, 1), (479, 1), (487, 3), (492, 1)], True)\n"
     ]
    }
   ],
   "source": [
    "from utils import check_solution\n",
    "# Build and check solution\n",
    "solution = [(x, optimal_state[x]) for x in range(dough_length) if optimal_state[x] != -1]\n",
    "print(check_solution(solution))"
   ]
  },
  {
   "cell_type": "code",
   "execution_count": 17,
   "metadata": {},
   "outputs": [],
   "source": [
    "from utils import save_solution\n",
    "# Save solution\n",
    "save_solution(solution, \"solution_simulated_annealing.txt\")"
   ]
  },
  {
   "cell_type": "code",
   "execution_count": null,
   "metadata": {},
   "outputs": [],
   "source": []
  }
 ],
 "metadata": {
  "kernelspec": {
   "display_name": "base",
   "language": "python",
   "name": "python3"
  },
  "language_info": {
   "codemirror_mode": {
    "name": "ipython",
    "version": 3
   },
   "file_extension": ".py",
   "mimetype": "text/x-python",
   "name": "python",
   "nbconvert_exporter": "python",
   "pygments_lexer": "ipython3",
   "version": "3.9.7"
  }
 },
 "nbformat": 4,
 "nbformat_minor": 2
}
