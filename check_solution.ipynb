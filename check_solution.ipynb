{
 "cells": [
  {
   "cell_type": "code",
   "execution_count": 1,
   "metadata": {},
   "outputs": [],
   "source": [
    "with open(\"defects.csv\") as f:\n",
    "    lines = f.readlines()\n",
    "    defects = [line.strip().split(\",\") for line in lines[1:]]\n",
    "\n",
    "\n",
    "defect_counts = {}\n",
    "for x, y in defects:\n",
    "    x = int(float(x))\n",
    "    if x not in defect_counts:\n",
    "        defect_counts[x] = {\"a\": 0, \"b\": 0, \"c\": 0}\n",
    "\n",
    "    defect_counts[x][y] += 1"
   ]
  },
  {
   "cell_type": "code",
   "execution_count": 18,
   "metadata": {},
   "outputs": [],
   "source": [
    "\n",
    "dough_length = 500\n",
    "\n",
    "biscuits = {\n",
    "    0: {\"length\": 4, \"value\": 6, \"defects\": {\"a\": 4, \"b\": 2, \"c\": 3}},\n",
    "    1: {\"length\": 8, \"value\": 12, \"defects\": {\"a\": 5, \"b\": 4, \"c\": 4}},\n",
    "    2: {\"length\": 2, \"value\": 1, \"defects\": {\"a\": 1, \"b\": 2, \"c\": 1}},\n",
    "    3: {\"length\": 5, \"value\": 8, \"defects\": {\"a\": 2, \"b\": 3, \"c\": 2}},\n",
    "}\n",
    "\n",
    "\n",
    "with open(\"solution.txt\") as f:\n",
    "    lines = f.readlines()\n",
    "    sol = [line.strip().split(\",\") for line in lines]\n",
    "    # sol = [(int(x), {4: 0, 8: 1, 2: 2, 5: 3}[int(y)]) for x, y in sol] # If biscuits are represented by length\n",
    "    sol = [(int(x), int(y)) for x, y in sol]\n",
    "\n",
    "sol = sorted(sol, key=lambda x: x[0])\n"
   ]
  },
  {
   "cell_type": "code",
   "execution_count": 19,
   "metadata": {},
   "outputs": [
    {
     "name": "stdout",
     "output_type": "stream",
     "text": [
      "781\n"
     ]
    }
   ],
   "source": [
    "value = 0\n",
    "\n",
    "for i, (x, y) in enumerate(sol):\n",
    "    if x < 0:\n",
    "        print(\"Negative x\", x, y)\n",
    "        biscuit_valid = False\n",
    "    if x + biscuits[y][\"length\"] > dough_length:\n",
    "        print(\"Biscuit too long\", x, y)\n",
    "        biscuit_valid = False\n",
    "    \n",
    "    defect_counts_for_biscuit = {\"a\": 0, \"b\": 0, \"c\": 0}\n",
    "    for j in range(x, x + biscuits[y][\"length\"] - 1):\n",
    "        if j in defect_counts:\n",
    "            for k in defect_counts[j]:\n",
    "                defect_counts_for_biscuit[k] += defect_counts[j][k]\n",
    "    biscuit_valid = True\n",
    "    if i != 0 and x <= sol[i - 1][0] + biscuits[sol[i - 1][1]][\"length\"] - 1:\n",
    "        print(\"Biscuits overlap\", x, y)\n",
    "        biscuit_valid = False\n",
    "\n",
    "    for k in defect_counts_for_biscuit:\n",
    "        if defect_counts_for_biscuit[k] > biscuits[y][\"defects\"][k]:\n",
    "            print(\"Defects don't match\", x, y, k, defect_counts_for_biscuit, biscuits[y][\"defects\"])\n",
    "            biscuit_valid = False\n",
    "\n",
    "    if biscuit_valid:\n",
    "        value += biscuits[y][\"value\"]\n",
    "\n",
    "print(value)"
   ]
  },
  {
   "cell_type": "code",
   "execution_count": null,
   "metadata": {},
   "outputs": [],
   "source": []
  }
 ],
 "metadata": {
  "kernelspec": {
   "display_name": "Python 3",
   "language": "python",
   "name": "python3"
  },
  "language_info": {
   "codemirror_mode": {
    "name": "ipython",
    "version": 3
   },
   "file_extension": ".py",
   "mimetype": "text/x-python",
   "name": "python",
   "nbconvert_exporter": "python",
   "pygments_lexer": "ipython3",
   "version": "3.9.7"
  }
 },
 "nbformat": 4,
 "nbformat_minor": 2
}
