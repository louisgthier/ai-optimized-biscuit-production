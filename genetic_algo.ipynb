{
 "cells": [
  {
   "cell_type": "code",
   "execution_count": 2,
   "metadata": {},
   "outputs": [
    {
     "name": "stdout",
     "output_type": "stream",
     "text": [
      "322\n"
     ]
    }
   ],
   "source": [
    "with open(\"defects.csv\") as f:\n",
    "    lines = f.readlines()\n",
    "    defects = [line.strip().split(\",\") for line in lines[1:]]\n",
    "\n",
    "# Defects never occur at precise integer coordinates, so a defect will never be shared by two tiles.\n",
    "defect_counts = {}\n",
    "for x, y in defects:\n",
    "    x = int(float(x))\n",
    "    if x not in defect_counts:\n",
    "        defect_counts[x] = {\"a\": 0, \"b\": 0, \"c\": 0}\n",
    "\n",
    "    defect_counts[x][y] += 1\n",
    "\n",
    "print(len(defect_counts))"
   ]
  },
  {
   "cell_type": "code",
   "execution_count": 3,
   "metadata": {},
   "outputs": [],
   "source": [
    "LENGTH = 500\n",
    "\n",
    "BISCUITS = {\n",
    "    0: {\"length\": 4, \"value\": 6, \"defects\": {\"a\": 4, \"b\": 2, \"c\": 3}, \"id\": 0},\n",
    "    1: {\"length\": 8, \"value\": 12, \"defects\": {\"a\": 5, \"b\": 4, \"c\": 4}, \"id\": 1},\n",
    "    2: {\"length\": 2, \"value\": 1, \"defects\": {\"a\": 1, \"b\": 2, \"c\": 1}, \"id\": 2},\n",
    "    3: {\"length\": 5, \"value\": 8, \"defects\": {\"a\": 2, \"b\": 3, \"c\": 2}, \"id\": 3},\n",
    "}"
   ]
  },
  {
   "cell_type": "code",
   "execution_count": 4,
   "metadata": {},
   "outputs": [],
   "source": [
    "import random\n",
    "\n",
    "# Genetic Algorithm Parameters\n",
    "pop_size = 100\n",
    "MUTATION_RATE = 0.01\n",
    "GENERATIONS = 50"
   ]
  },
  {
   "cell_type": "code",
   "execution_count": 5,
   "metadata": {},
   "outputs": [],
   "source": [
    "\n",
    "# Initialize a single chromosome\n",
    "def initialize_chromosome():\n",
    "    chromosome = [] * LENGTH\n",
    "    position = 0\n",
    "    while position < LENGTH:\n",
    "        biscuit_type = random.choice(list(BISCUITS.keys()))\n",
    "        biscuit_size = BISCUITS[biscuit_type]['length']\n",
    "        if position + biscuit_size <= LENGTH:\n",
    "            for i in range(biscuit_size):\n",
    "                chromosome[position + i] = biscuit_type\n",
    "            position += biscuit_size\n",
    "        else:\n",
    "            break\n",
    "    return chromosome\n",
    "\n",
    "# Initialize population\n",
    "def initialize_population(pop_size):\n",
    "    return [initialize_chromosome() for _ in range(pop_size)]\n",
    "\n",
    "# Fitness function\n",
    "def fitness(chromosome):\n",
    "    total_value = 0\n",
    "    for position, biscuit_type in enumerate(chromosome):\n",
    "        if biscuit_type in [0,1,2,3]:\n",
    "            biscuit = BISCUITS[biscuit_type]\n",
    "            total_value += biscuit['value']\n",
    "            for defect_class, max_allowed in biscuit['defects'].items():\n",
    "                defect_count = sum(position <= d[\"position\"] < position + biscuit['length'] for d in defects if d[\"class\"] == defect_class)\n",
    "                if defect_count > max_allowed:\n",
    "                    total_value -= (defect_count - max_allowed) * biscuit['value'] # Penalty\n",
    "    return total_value\n",
    "\n",
    "# Selection\n",
    "def select_population(population, to_keep):\n",
    "    sorted_population = sorted(population, key=fitness, reverse=True)\n",
    "    return sorted_population[:to_keep]\n",
    "\n",
    "# Crossover\n",
    "def crossover(parent1, parent2):\n",
    "    crossover_point = random.randint(1, LENGTH - 1)\n",
    "    child1 = parent1[:crossover_point] + parent2[crossover_point:]\n",
    "    child2 = parent2[:crossover_point] + parent1[crossover_point:]\n",
    "    return child1, child2\n",
    "\n",
    "# Mutation\n",
    "def mutate(chromosome, mutation_rate):\n",
    "    for i in range(len(chromosome)):\n",
    "        if random.random() < mutation_rate:\n",
    "            chromosome[i] = random.choice(list(BISCUITS.keys()))\n",
    "    return chromosome\n",
    "\n",
    "# Genetic Algorithm\n",
    "def genetic_algorithm(pop_size, mutation_rate, generations):\n",
    "    population = initialize_population(pop_size)\n",
    "    for _ in range(generations):\n",
    "        new_population = []\n",
    "        population = select_population(population, pop_size // 2)\n",
    "        while len(new_population) < pop_size:\n",
    "            parent1, parent2 = random.sample(population, 2)\n",
    "            child1, child2 = crossover(parent1, parent2)\n",
    "            child1 = mutate(child1, mutation_rate)\n",
    "            child2 = mutate(child2, mutation_rate)\n",
    "            new_population.extend([child1, child2])\n",
    "        population = new_population\n",
    "    best_solution = max(population, key=fitness)\n",
    "    return best_solution"
   ]
  },
  {
   "cell_type": "code",
   "execution_count": 6,
   "metadata": {},
   "outputs": [
    {
     "name": "stdout",
     "output_type": "stream",
     "text": [
      "dict_keys([0, 1, 2, 3])\n"
     ]
    }
   ],
   "source": [
    "print(BISCUITS.keys())"
   ]
  },
  {
   "cell_type": "code",
   "execution_count": 7,
   "metadata": {},
   "outputs": [
    {
     "ename": "TypeError",
     "evalue": "list indices must be integers or slices, not str",
     "output_type": "error",
     "traceback": [
      "\u001b[1;31m---------------------------------------------------------------------------\u001b[0m",
      "\u001b[1;31mTypeError\u001b[0m                                 Traceback (most recent call last)",
      "Cell \u001b[1;32mIn[7], line 1\u001b[0m\n\u001b[1;32m----> 1\u001b[0m best_chromosome \u001b[38;5;241m=\u001b[39m \u001b[43mgenetic_algorithm\u001b[49m\u001b[43m(\u001b[49m\u001b[43mpop_size\u001b[49m\u001b[43m,\u001b[49m\u001b[43m \u001b[49m\u001b[43mMUTATION_RATE\u001b[49m\u001b[43m,\u001b[49m\u001b[43m \u001b[49m\u001b[43mGENERATIONS\u001b[49m\u001b[43m)\u001b[49m\n\u001b[0;32m      2\u001b[0m \u001b[38;5;28mprint\u001b[39m(\u001b[38;5;124m\"\u001b[39m\u001b[38;5;124mBest solution:\u001b[39m\u001b[38;5;124m\"\u001b[39m, best_chromosome)\n\u001b[0;32m      3\u001b[0m \u001b[38;5;28mprint\u001b[39m(\u001b[38;5;124m\"\u001b[39m\u001b[38;5;124mBest solution fitness:\u001b[39m\u001b[38;5;124m\"\u001b[39m, fitness(best_chromosome))\n",
      "Cell \u001b[1;32mIn[5], line 57\u001b[0m, in \u001b[0;36mgenetic_algorithm\u001b[1;34m(pop_size, mutation_rate, generations)\u001b[0m\n\u001b[0;32m     55\u001b[0m \u001b[38;5;28;01mfor\u001b[39;00m _ \u001b[38;5;129;01min\u001b[39;00m \u001b[38;5;28mrange\u001b[39m(generations):\n\u001b[0;32m     56\u001b[0m     new_population \u001b[38;5;241m=\u001b[39m []\n\u001b[1;32m---> 57\u001b[0m     population \u001b[38;5;241m=\u001b[39m \u001b[43mselect_population\u001b[49m\u001b[43m(\u001b[49m\u001b[43mpopulation\u001b[49m\u001b[43m,\u001b[49m\u001b[43m \u001b[49m\u001b[43mpop_size\u001b[49m\u001b[43m \u001b[49m\u001b[38;5;241;43m/\u001b[39;49m\u001b[38;5;241;43m/\u001b[39;49m\u001b[43m \u001b[49m\u001b[38;5;241;43m2\u001b[39;49m\u001b[43m)\u001b[49m\n\u001b[0;32m     58\u001b[0m     \u001b[38;5;28;01mwhile\u001b[39;00m \u001b[38;5;28mlen\u001b[39m(new_population) \u001b[38;5;241m<\u001b[39m pop_size:\n\u001b[0;32m     59\u001b[0m         parent1, parent2 \u001b[38;5;241m=\u001b[39m random\u001b[38;5;241m.\u001b[39msample(population, \u001b[38;5;241m2\u001b[39m)\n",
      "Cell \u001b[1;32mIn[5], line 35\u001b[0m, in \u001b[0;36mselect_population\u001b[1;34m(population, to_keep)\u001b[0m\n\u001b[0;32m     34\u001b[0m \u001b[38;5;28;01mdef\u001b[39;00m \u001b[38;5;21mselect_population\u001b[39m(population, to_keep):\n\u001b[1;32m---> 35\u001b[0m     sorted_population \u001b[38;5;241m=\u001b[39m \u001b[38;5;28;43msorted\u001b[39;49m\u001b[43m(\u001b[49m\u001b[43mpopulation\u001b[49m\u001b[43m,\u001b[49m\u001b[43m \u001b[49m\u001b[43mkey\u001b[49m\u001b[38;5;241;43m=\u001b[39;49m\u001b[43mfitness\u001b[49m\u001b[43m,\u001b[49m\u001b[43m \u001b[49m\u001b[43mreverse\u001b[49m\u001b[38;5;241;43m=\u001b[39;49m\u001b[38;5;28;43;01mTrue\u001b[39;49;00m\u001b[43m)\u001b[49m\n\u001b[0;32m     36\u001b[0m     \u001b[38;5;28;01mreturn\u001b[39;00m sorted_population[:to_keep]\n",
      "Cell \u001b[1;32mIn[5], line 28\u001b[0m, in \u001b[0;36mfitness\u001b[1;34m(chromosome)\u001b[0m\n\u001b[0;32m     26\u001b[0m total_value \u001b[38;5;241m+\u001b[39m\u001b[38;5;241m=\u001b[39m biscuit[\u001b[38;5;124m'\u001b[39m\u001b[38;5;124mvalue\u001b[39m\u001b[38;5;124m'\u001b[39m]\n\u001b[0;32m     27\u001b[0m \u001b[38;5;28;01mfor\u001b[39;00m defect_class, max_allowed \u001b[38;5;129;01min\u001b[39;00m biscuit[\u001b[38;5;124m'\u001b[39m\u001b[38;5;124mdefects\u001b[39m\u001b[38;5;124m'\u001b[39m]\u001b[38;5;241m.\u001b[39mitems():\n\u001b[1;32m---> 28\u001b[0m     defect_count \u001b[38;5;241m=\u001b[39m \u001b[38;5;28;43msum\u001b[39;49m\u001b[43m(\u001b[49m\u001b[43mposition\u001b[49m\u001b[43m \u001b[49m\u001b[38;5;241;43m<\u001b[39;49m\u001b[38;5;241;43m=\u001b[39;49m\u001b[43m \u001b[49m\u001b[43md\u001b[49m\u001b[43m[\u001b[49m\u001b[38;5;124;43m\"\u001b[39;49m\u001b[38;5;124;43mposition\u001b[39;49m\u001b[38;5;124;43m\"\u001b[39;49m\u001b[43m]\u001b[49m\u001b[43m \u001b[49m\u001b[38;5;241;43m<\u001b[39;49m\u001b[43m \u001b[49m\u001b[43mposition\u001b[49m\u001b[43m \u001b[49m\u001b[38;5;241;43m+\u001b[39;49m\u001b[43m \u001b[49m\u001b[43mbiscuit\u001b[49m\u001b[43m[\u001b[49m\u001b[38;5;124;43m'\u001b[39;49m\u001b[38;5;124;43mlength\u001b[39;49m\u001b[38;5;124;43m'\u001b[39;49m\u001b[43m]\u001b[49m\u001b[43m \u001b[49m\u001b[38;5;28;43;01mfor\u001b[39;49;00m\u001b[43m \u001b[49m\u001b[43md\u001b[49m\u001b[43m \u001b[49m\u001b[38;5;129;43;01min\u001b[39;49;00m\u001b[43m \u001b[49m\u001b[43mdefects\u001b[49m\u001b[43m \u001b[49m\u001b[38;5;28;43;01mif\u001b[39;49;00m\u001b[43m \u001b[49m\u001b[43md\u001b[49m\u001b[43m[\u001b[49m\u001b[38;5;124;43m\"\u001b[39;49m\u001b[38;5;124;43mclass\u001b[39;49m\u001b[38;5;124;43m\"\u001b[39;49m\u001b[43m]\u001b[49m\u001b[43m \u001b[49m\u001b[38;5;241;43m==\u001b[39;49m\u001b[43m \u001b[49m\u001b[43mdefect_class\u001b[49m\u001b[43m)\u001b[49m\n\u001b[0;32m     29\u001b[0m     \u001b[38;5;28;01mif\u001b[39;00m defect_count \u001b[38;5;241m>\u001b[39m max_allowed:\n\u001b[0;32m     30\u001b[0m         total_value \u001b[38;5;241m-\u001b[39m\u001b[38;5;241m=\u001b[39m (defect_count \u001b[38;5;241m-\u001b[39m max_allowed) \u001b[38;5;241m*\u001b[39m biscuit[\u001b[38;5;124m'\u001b[39m\u001b[38;5;124mvalue\u001b[39m\u001b[38;5;124m'\u001b[39m] \u001b[38;5;66;03m# Penalty\u001b[39;00m\n",
      "Cell \u001b[1;32mIn[5], line 28\u001b[0m, in \u001b[0;36m<genexpr>\u001b[1;34m(.0)\u001b[0m\n\u001b[0;32m     26\u001b[0m total_value \u001b[38;5;241m+\u001b[39m\u001b[38;5;241m=\u001b[39m biscuit[\u001b[38;5;124m'\u001b[39m\u001b[38;5;124mvalue\u001b[39m\u001b[38;5;124m'\u001b[39m]\n\u001b[0;32m     27\u001b[0m \u001b[38;5;28;01mfor\u001b[39;00m defect_class, max_allowed \u001b[38;5;129;01min\u001b[39;00m biscuit[\u001b[38;5;124m'\u001b[39m\u001b[38;5;124mdefects\u001b[39m\u001b[38;5;124m'\u001b[39m]\u001b[38;5;241m.\u001b[39mitems():\n\u001b[1;32m---> 28\u001b[0m     defect_count \u001b[38;5;241m=\u001b[39m \u001b[38;5;28msum\u001b[39m(position \u001b[38;5;241m<\u001b[39m\u001b[38;5;241m=\u001b[39m d[\u001b[38;5;124m\"\u001b[39m\u001b[38;5;124mposition\u001b[39m\u001b[38;5;124m\"\u001b[39m] \u001b[38;5;241m<\u001b[39m position \u001b[38;5;241m+\u001b[39m biscuit[\u001b[38;5;124m'\u001b[39m\u001b[38;5;124mlength\u001b[39m\u001b[38;5;124m'\u001b[39m] \u001b[38;5;28;01mfor\u001b[39;00m d \u001b[38;5;129;01min\u001b[39;00m defects \u001b[38;5;28;01mif\u001b[39;00m \u001b[43md\u001b[49m\u001b[43m[\u001b[49m\u001b[38;5;124;43m\"\u001b[39;49m\u001b[38;5;124;43mclass\u001b[39;49m\u001b[38;5;124;43m\"\u001b[39;49m\u001b[43m]\u001b[49m \u001b[38;5;241m==\u001b[39m defect_class)\n\u001b[0;32m     29\u001b[0m     \u001b[38;5;28;01mif\u001b[39;00m defect_count \u001b[38;5;241m>\u001b[39m max_allowed:\n\u001b[0;32m     30\u001b[0m         total_value \u001b[38;5;241m-\u001b[39m\u001b[38;5;241m=\u001b[39m (defect_count \u001b[38;5;241m-\u001b[39m max_allowed) \u001b[38;5;241m*\u001b[39m biscuit[\u001b[38;5;124m'\u001b[39m\u001b[38;5;124mvalue\u001b[39m\u001b[38;5;124m'\u001b[39m] \u001b[38;5;66;03m# Penalty\u001b[39;00m\n",
      "\u001b[1;31mTypeError\u001b[0m: list indices must be integers or slices, not str"
     ]
    }
   ],
   "source": [
    "best_chromosome = genetic_algorithm(pop_size, MUTATION_RATE, GENERATIONS)\n",
    "print(\"Best solution:\", best_chromosome)\n",
    "print(\"Best solution fitness:\", fitness(best_chromosome))"
   ]
  },
  {
   "cell_type": "code",
   "execution_count": null,
   "metadata": {},
   "outputs": [],
   "source": []
  }
 ],
 "metadata": {
  "kernelspec": {
   "display_name": "Python 3",
   "language": "python",
   "name": "python3"
  },
  "language_info": {
   "codemirror_mode": {
    "name": "ipython",
    "version": 3
   },
   "file_extension": ".py",
   "mimetype": "text/x-python",
   "name": "python",
   "nbconvert_exporter": "python",
   "pygments_lexer": "ipython3",
   "version": "3.12.0"
  }
 },
 "nbformat": 4,
 "nbformat_minor": 2
}
