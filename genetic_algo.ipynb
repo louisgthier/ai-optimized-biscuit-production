{
 "cells": [
  {
   "cell_type": "code",
   "execution_count": 1,
   "metadata": {},
   "outputs": [
    {
     "name": "stdout",
     "output_type": "stream",
     "text": [
      "322\n"
     ]
    }
   ],
   "source": [
    "with open(\"defects.csv\") as f:\n",
    "    lines = f.readlines()\n",
    "    defects = [line.strip().split(\",\") for line in lines[1:]]\n",
    "\n",
    "# Defects never occur at precise integer coordinates, so a defect will never be shared by two tiles.\n",
    "defect_counts = {}\n",
    "for x, y in defects:\n",
    "    x = int(float(x))\n",
    "    if x not in defect_counts:\n",
    "        defect_counts[x] = {\"a\": 0, \"b\": 0, \"c\": 0}\n",
    "\n",
    "    defect_counts[x][y] += 1\n",
    "\n",
    "print(len(defect_counts))"
   ]
  },
  {
   "cell_type": "code",
   "execution_count": 2,
   "metadata": {},
   "outputs": [],
   "source": [
    "LENGTH = 500\n",
    "\n",
    "BISCUITS = {\n",
    "    0: {\"length\": 4, \"value\": 6, \"defects\": {\"a\": 4, \"b\": 2, \"c\": 3}, \"id\": 0},\n",
    "    1: {\"length\": 8, \"value\": 12, \"defects\": {\"a\": 5, \"b\": 4, \"c\": 4}, \"id\": 1},\n",
    "    2: {\"length\": 2, \"value\": 1, \"defects\": {\"a\": 1, \"b\": 2, \"c\": 1}, \"id\": 2},\n",
    "    3: {\"length\": 5, \"value\": 8, \"defects\": {\"a\": 2, \"b\": 3, \"c\": 2}, \"id\": 3},\n",
    "}"
   ]
  },
  {
   "cell_type": "code",
   "execution_count": 14,
   "metadata": {},
   "outputs": [],
   "source": [
    "import random\n",
    "\n",
    "# Genetic Algorithm Parameters\n",
    "pop_size = 10\n",
    "MUTATION_RATE = 0.01\n",
    "GENERATIONS = 10"
   ]
  },
  {
   "cell_type": "code",
   "execution_count": 12,
   "metadata": {},
   "outputs": [],
   "source": [
    "\n",
    "# Initialize a single chromosome\n",
    "def initialize_chromosome():\n",
    "    chromosome = [None] * LENGTH\n",
    "    position = 0\n",
    "    while position < LENGTH:\n",
    "        possible_biscuits = [biscuit for biscuit, properties in BISCUITS.items() if properties['length'] + position <= LENGTH]\n",
    "        if not possible_biscuits:\n",
    "            break  # No biscuit can fit, exit the loop\n",
    "        biscuit_type = random.choice(possible_biscuits)\n",
    "        biscuit_size = BISCUITS[biscuit_type]['length']\n",
    "        for i in range(biscuit_size):\n",
    "            chromosome[position + i] = biscuit_type\n",
    "        position += biscuit_size\n",
    "    return chromosome\n",
    "\n",
    "# Initialize population\n",
    "def initialize_population(pop_size):\n",
    "    return [initialize_chromosome() for _ in range(pop_size)]\n",
    "\n",
    "# Fitness function\n",
    "def fitness(chromosome):\n",
    "    total_value = 0\n",
    "    for position, biscuit_type in enumerate(chromosome):\n",
    "        if biscuit_type in [0,1,2,3]:\n",
    "            biscuit = BISCUITS[biscuit_type]\n",
    "            total_value += biscuit['value']\n",
    "            for defect_class, max_allowed in biscuit['defects'].items():\n",
    "                defect_count = sum(position <= int(float(d[0])) < position + biscuit['length'] for d in defects if d[1] == defect_class)                \n",
    "                if defect_count > max_allowed:\n",
    "                    total_value -= (defect_count - max_allowed) * biscuit['value'] # Penalty\n",
    "    return total_value\n",
    "\n",
    "# Selection\n",
    "def select_population(population, to_keep):\n",
    "    sorted_population = sorted(population, key=fitness, reverse=True)\n",
    "    return sorted_population[:to_keep]\n",
    "\n",
    "# Crossover\n",
    "def crossover(parent1, parent2):\n",
    "    crossover_point = random.randint(1, LENGTH - 1)\n",
    "    child1 = parent1[:crossover_point] + parent2[crossover_point:]\n",
    "    child2 = parent2[:crossover_point] + parent1[crossover_point:]\n",
    "    return child1, child2\n",
    "\n",
    "# Mutation\n",
    "def mutate(chromosome, mutation_rate):\n",
    "    for i in range(len(chromosome)):\n",
    "        if random.random() < mutation_rate:\n",
    "            chromosome[i] = random.choice(list(BISCUITS.keys()))\n",
    "    return chromosome\n",
    "\n",
    "# Genetic Algorithm\n",
    "def genetic_algorithm(pop_size, mutation_rate, generations):\n",
    "    population = initialize_population(pop_size)\n",
    "    for _ in range(generations):\n",
    "        new_population = []\n",
    "        population = select_population(population, pop_size // 2)\n",
    "        while len(new_population) < pop_size:\n",
    "            parent1, parent2 = random.sample(population, 2)\n",
    "            child1, child2 = crossover(parent1, parent2)\n",
    "            child1 = mutate(child1, mutation_rate)\n",
    "            child2 = mutate(child2, mutation_rate)\n",
    "            new_population.extend([child1, child2])\n",
    "        population = new_population\n",
    "    best_solution = max(population, key=fitness)\n",
    "    return best_solution"
   ]
  },
  {
   "cell_type": "code",
   "execution_count": 5,
   "metadata": {},
   "outputs": [
    {
     "name": "stdout",
     "output_type": "stream",
     "text": [
      "dict_keys([0, 1, 2, 3])\n"
     ]
    }
   ],
   "source": [
    "print(BISCUITS.keys())"
   ]
  },
  {
   "cell_type": "code",
   "execution_count": 15,
   "metadata": {},
   "outputs": [
    {
     "name": "stdout",
     "output_type": "stream",
     "text": [
      "Best solution: [0, 0, 0, 0, 2, 2, 2, 2, 3, 3, 3, 3, 3, 3, 3, 3, 0, 3, 1, 1, 1, 3, 1, 1, 1, 1, 1, 1, 1, 1, 1, 1, 1, 1, 1, 1, 1, 1, 1, 1, 1, 1, 1, 2, 1, 1, 1, 1, 1, 1, 0, 1, 1, 1, 1, 1, 1, 1, 3, 1, 1, 1, 1, 2, 2, 0, 1, 0, 0, 1, 1, 1, 1, 1, 1, 1, 1, 3, 3, 3, 3, 3, 3, 3, 2, 3, 3, 2, 2, 0, 0, 2, 0, 1, 1, 1, 1, 1, 1, 1, 1, 1, 1, 1, 1, 1, 2, 1, 1, 3, 3, 3, 3, 1, 3, 2, 3, 3, 3, 1, 1, 1, 1, 1, 1, 1, 1, 1, 0, 0, 0, 1, 1, 1, 1, 1, 1, 1, 2, 2, 1, 1, 1, 1, 1, 1, 1, 1, 1, 1, 1, 1, 1, 1, 1, 0, 0, 0, 0, 2, 2, 0, 0, 0, 0, 2, 2, 1, 1, 1, 1, 1, 1, 1, 1, 2, 2, 2, 2, 2, 2, 2, 2, 1, 1, 1, 1, 1, 1, 1, 1, 1, 1, 1, 1, 1, 1, 1, 1, 3, 2, 3, 3, 3, 1, 3, 3, 3, 3, 1, 1, 1, 1, 1, 1, 1, 1, 2, 2, 2, 2, 3, 0, 3, 3, 3, 0, 0, 0, 0, 3, 1, 0, 3, 1, 0, 0, 0, 0, 0, 0, 0, 0, 2, 2, 2, 2, 1, 2, 2, 0, 0, 0, 0, 0, 1, 1, 1, 1, 0, 0, 0, 0, 0, 0, 3, 3, 3, 3, 3, 1, 1, 1, 1, 1, 1, 1, 1, 0, 0, 0, 0, 3, 3, 3, 3, 3, 0, 0, 0, 0, 0, 0, 0, 0, 1, 1, 1, 1, 1, 1, 1, 1, 1, 1, 1, 1, 1, 1, 1, 1, 3, 0, 0, 0, 3, 3, 3, 3, 3, 3, 3, 3, 3, 3, 2, 2, 1, 1, 1, 1, 0, 1, 1, 1, 1, 1, 1, 1, 2, 1, 1, 1, 3, 3, 3, 3, 3, 0, 0, 2, 1, 2, 2, 0, 0, 0, 0, 3, 3, 3, 3, 3, 2, 2, 2, 2, 0, 0, 0, 0, 1, 1, 1, 1, 1, 1, 1, 1, 2, 2, 0, 0, 0, 3, 0, 0, 0, 0, 2, 2, 1, 2, 1, 1, 1, 1, 1, 1, 2, 2, 0, 0, 0, 0, 1, 1, 1, 3, 1, 1, 1, 1, 3, 3, 3, 3, 3, 2, 2, 2, 2, 1, 0, 0, 0, 1, 1, 1, 1, 3, 1, 1, 1, 0, 0, 0, 0, 2, 3, 3, 3, 3, 3, 3, 0, 1, 1, 1, 1, 1, 1, 1, 3, 3, 3, 3, 3, 1, 1, 1, 1, 1, 1, 1, 1, 2, 2, 3, 3, 1, 3, 3, 1, 0, 3, 3, 3, 3, 3, 3, 3, 2, 1, 1, 3, 1, 1, 1, 1, 1, 1, 1, 1, 1, 1, 1, 1, 1, 2]\n",
      "Best solution fitness: 2525\n"
     ]
    }
   ],
   "source": [
    "best_chromosome = genetic_algorithm(pop_size, MUTATION_RATE, GENERATIONS)\n",
    "print(\"Best solution:\", best_chromosome)\n",
    "print(\"Best solution fitness:\", fitness(best_chromosome))"
   ]
  },
  {
   "cell_type": "code",
   "execution_count": null,
   "metadata": {},
   "outputs": [],
   "source": []
  }
 ],
 "metadata": {
  "kernelspec": {
   "display_name": "Python 3",
   "language": "python",
   "name": "python3"
  },
  "language_info": {
   "codemirror_mode": {
    "name": "ipython",
    "version": 3
   },
   "file_extension": ".py",
   "mimetype": "text/x-python",
   "name": "python",
   "nbconvert_exporter": "python",
   "pygments_lexer": "ipython3",
   "version": "3.12.0"
  }
 },
 "nbformat": 4,
 "nbformat_minor": 2
}
